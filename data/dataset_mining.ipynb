{
 "metadata": {
  "language_info": {
   "codemirror_mode": {
    "name": "ipython",
    "version": 3
   },
   "file_extension": ".py",
   "mimetype": "text/x-python",
   "name": "python",
   "nbconvert_exporter": "python",
   "pygments_lexer": "ipython3",
   "version": "3.8.5-final"
  },
  "orig_nbformat": 2,
  "kernelspec": {
   "name": "python385jvsc74a57bd04e4b1c0eba25b43fb0828087952fe1bfe39b80460d2a5f528a72e68cadaca174",
   "display_name": "Python 3.8.5 64-bit ('base': conda)"
  }
 },
 "nbformat": 4,
 "nbformat_minor": 2,
 "cells": [
  {
   "source": [
    "# Visualizations"
   ],
   "cell_type": "markdown",
   "metadata": {}
  },
  {
   "cell_type": "code",
   "execution_count": 5,
   "metadata": {},
   "outputs": [],
   "source": [
    "%matplotlib qt\n",
    "\n",
    "from matplotlib import patches as mpatches\n",
    "from collections import Counter\n",
    "\n",
    "import pandas as pd\n",
    "import matplotlib.pyplot as plt\n",
    "import seaborn as sns\n",
    "\n",
    "sns.set_context(\"paper\")\n",
    "sns.set(font=\"Times New Roman\", font_scale=1.50)\n",
    "sns.set_style(\"whitegrid\")\n",
    "\n",
    "# load\n",
    "csv_path = \"./data/anonymized/tracks.csv\"\n",
    "\n",
    "df: pd.DataFrame = pd.read_csv(csv_path, sep=\",\")\n",
    "df: pd.DataFrame = df.drop(\n",
    "    df[df[\"user\"] == \"participant_7\"].index)  # ignore participant 7"
   ]
  },
  {
   "source": [
    "## Motivation\n",
    "### box__consumption_phase_participant"
   ],
   "cell_type": "markdown",
   "metadata": {}
  },
  {
   "cell_type": "code",
   "execution_count": 175,
   "metadata": {},
   "outputs": [],
   "source": [
    "# translation of xticks\n",
    "translation = {f\"participant_{i}\": f\"P{i}\" for i in range(12)}\n",
    "df[\"user\"] = df[\"user\"].map(lambda user: translation[user])\n",
    "\n",
    "column_csv = \"consumption\"\n",
    "column_csv_translation = \"Spotreba paliva [L/100km]\"\n",
    "\n",
    "# picked data\n",
    "df_boxplot: pd.DataFrame = df[[\"user\", \"phase\", column_csv]]\n",
    "\n",
    "# legend colours and names\n",
    "legend_names = [\"1\", \"2\", \"3\"]\n",
    "legend_patches = [mpatches.Patch(color='#cb3335'), mpatches.Patch(\n",
    "    color='#477ca8'), mpatches.Patch(color='#59a257')]\n",
    "\n",
    "# plotting\n",
    "fig = plt.figure()\n",
    "sns.boxplot(x=\"user\", y=column_csv, hue=\"phase\", data=df_boxplot, palette=\"Set1\", boxprops=dict(alpha=.3),\n",
    "            showfliers=False)\n",
    "ax = sns.stripplot(x=\"user\", y=column_csv, hue=\"phase\",\n",
    "                   data=df_boxplot, dodge=True, palette=\"Set1\")\n",
    "ax.get_legend().remove()\n",
    "plt.xlabel(\"Participanti\")\n",
    "plt.ylabel(column_csv_translation)\n",
    "fig.legend(title='Fázy', labels=legend_names,\n",
    "           handles=legend_patches,\n",
    "           fancybox=True, shadow=True, loc='upper center', ncol=len(legend_patches))\n",
    "plt.show()"
   ]
  },
  {
   "source": [
    "### box__score_phase_participant"
   ],
   "cell_type": "markdown",
   "metadata": {}
  },
  {
   "cell_type": "code",
   "execution_count": 2,
   "metadata": {},
   "outputs": [],
   "source": [
    "# translation of xticks\n",
    "translation = {f\"participant_{i}\": f\"P{i}\" for i in range(12)}\n",
    "df[\"user\"] = df[\"user\"].map(lambda user: translation[user])\n",
    "\n",
    "column_csv = \"score\"\n",
    "column_csv_translation = \"Ekologické skóre [-]\"\n",
    "\n",
    "# picked data\n",
    "df_boxplot: pd.DataFrame = df[[\"user\", \"phase\", column_csv]]\n",
    "df_boxplot: pd.DataFrame = df_boxplot.drop(df_boxplot[df_boxplot[\"phase\"] == 1].index)\n",
    "\n",
    "# legend colours and names\n",
    "legend_names = [\"2\", \"3\"]\n",
    "legend_patches = [mpatches.Patch(color='#cb3335'), mpatches.Patch(\n",
    "    color='#477ca8')]\n",
    "\n",
    "# plotting\n",
    "fig = plt.figure()\n",
    "sns.boxplot(x=\"user\", y=column_csv, hue=\"phase\", data=df_boxplot, palette=\"Set1\", boxprops=dict(alpha=.3),\n",
    "            showfliers=False)\n",
    "ax = sns.stripplot(x=\"user\", y=column_csv, hue=\"phase\",\n",
    "                   data=df_boxplot, dodge=True, palette=\"Set1\")\n",
    "ax.get_legend().remove()\n",
    "plt.xlabel(\"Participanti\")\n",
    "plt.ylabel(column_csv_translation)\n",
    "fig.legend(title='Fázy', labels=legend_names,\n",
    "           handles=legend_patches,\n",
    "           fancybox=True, shadow=True, loc='upper center', ncol=len(legend_patches))\n",
    "plt.show()"
   ]
  },
  {
   "source": [
    "### box__consumption_phase_strategy"
   ],
   "cell_type": "markdown",
   "metadata": {}
  },
  {
   "cell_type": "code",
   "execution_count": 157,
   "metadata": {},
   "outputs": [],
   "source": [
    "column_csv = \"consumption\"\n",
    "column_csv_translation = \"Spotreba paliva [L/100km]\"\n",
    "\n",
    "df_strategy = df[[column_csv, \"phase\", \"strategy\"]]\n",
    "df_strategy = df_strategy.drop(df_strategy[df_strategy[\"phase\"] == 1].index)\n",
    "\n",
    "# legend colours and names\n",
    "legend_names = [\"Odmeny\", \"Gamifikácia\"]\n",
    "legend_patches = [mpatches.Patch(\n",
    "    color='#cb3335'), mpatches.Patch(color='#477ca8')]\n",
    "\n",
    "# plotting\n",
    "fig = plt.figure()\n",
    "sns.boxplot(x=\"phase\", y=column_csv, hue=\"strategy\", data=df_strategy, palette=\"Set1\", boxprops=dict(alpha=.3),\n",
    "            showfliers=False)\n",
    "ax = sns.stripplot(x=\"phase\", y=column_csv, hue=\"strategy\",\n",
    "                   data=df_strategy, dodge=True, palette=\"Set1\")\n",
    "ax.get_legend().remove()\n",
    "plt.xlabel(\"Fáza\")\n",
    "plt.ylabel(column_csv_translation)\n",
    "fig.legend(title='Motivačná stratégia', labels=legend_names,\n",
    "           handles=legend_patches,\n",
    "           fancybox=True, shadow=True, loc='upper center', ncol=len(legend_patches))\n",
    "plt.show()"
   ]
  },
  {
   "source": [
    "### box__score_phase_strategy"
   ],
   "cell_type": "markdown",
   "metadata": {}
  },
  {
   "cell_type": "code",
   "execution_count": 149,
   "metadata": {},
   "outputs": [],
   "source": [
    "column_csv = \"score\"\n",
    "column_csv_translation = \"Ekologické skóre [-]\"\n",
    "\n",
    "df_strategy = df[[column_csv, \"phase\", \"strategy\"]]\n",
    "df_strategy = df_strategy.drop(df_strategy[df_strategy[\"phase\"] == 1].index)\n",
    "\n",
    "# legend colours and names\n",
    "legend_names = [\"Odmeny\", \"Gamifikácia\"]\n",
    "legend_patches = [mpatches.Patch(\n",
    "    color='#cb3335'), mpatches.Patch(color='#477ca8')]\n",
    "\n",
    "# plotting\n",
    "fig = plt.figure()\n",
    "sns.boxplot(x=\"phase\", y=column_csv, hue=\"strategy\", data=df_strategy, palette=\"Set1\", boxprops=dict(alpha=.3),\n",
    "            showfliers=False)\n",
    "ax = sns.stripplot(x=\"phase\", y=column_csv, hue=\"strategy\",\n",
    "                   data=df_strategy, dodge=True, palette=\"Set1\")\n",
    "ax.get_legend().remove()\n",
    "plt.xlabel(\"Fáza\")\n",
    "plt.ylabel(column_csv_translation)\n",
    "fig.legend(title='Motivačná stratégia', labels=legend_names,\n",
    "           handles=legend_patches,\n",
    "           fancybox=True, shadow=True, loc='upper center', ncol=len(legend_patches))\n",
    "plt.show()"
   ]
  },
  {
   "source": [
    "### bar__tracks_phase_participant"
   ],
   "cell_type": "markdown",
   "metadata": {}
  },
  {
   "cell_type": "code",
   "execution_count": 118,
   "metadata": {},
   "outputs": [],
   "source": [
    "# translation of xticks\n",
    "translation = {f\"participant_{i}\": f\"P{i}\" for i in range(12)}\n",
    "df[\"user\"] = df[\"user\"].map(lambda user: translation[user])\n",
    "\n",
    "column_csv = \"user\"\n",
    "\n",
    "df_counting = df[[column_csv, \"phase\"]]\n",
    "counts_for_phases = {i: Counter(\n",
    "    df_counting[df_counting[\"phase\"] == i][column_csv]) for i in range(1, 4)}\n",
    "\n",
    "data = {\n",
    "    \"Participant\": [],\n",
    "    \"Fáza\": [],\n",
    "    \"Počet\": []\n",
    "}\n",
    "\n",
    "for phase in counts_for_phases.keys():\n",
    "    for user in counts_for_phases[phase].keys():\n",
    "        data[\"Participant\"].append(user)\n",
    "        data[\"Fáza\"].append(phase)\n",
    "        data[\"Počet\"].append(counts_for_phases[phase][user])\n",
    "df_counting = pd.DataFrame.from_dict(data)\n",
    "\n",
    "# legend colours and names\n",
    "legend_names = [\"1\", \"2\", \"3\"]\n",
    "legend_patches = [mpatches.Patch(color='#cb3335'), mpatches.Patch(\n",
    "    color='#477ca8'), mpatches.Patch(color='#59a257')]\n",
    "\n",
    "# plotting\n",
    "fig = plt.figure()\n",
    "ax = sns.barplot(x=\"Participant\", y=\"Počet\", hue=\"Fáza\",\n",
    "                 data=df_counting, palette=\"Set1\")\n",
    "ax.get_legend().remove()\n",
    "plt.xlabel(\"Participanti\")\n",
    "plt.ylabel(\"Počet jázd [-]\")\n",
    "fig.legend(title='Fáza', labels=legend_names,\n",
    "           handles=legend_patches,\n",
    "           fancybox=True, shadow=True, loc='upper center', ncol=len(legend_patches))\n",
    "plt.show()"
   ]
  },
  {
   "source": [
    "## Rules\n",
    "### box__time_phase_participant"
   ],
   "cell_type": "markdown",
   "metadata": {}
  },
  {
   "source": [
    "# translation of xticks\n",
    "translation = {f\"participant_{i}\": f\"P{i}\" for i in range(12)}\n",
    "df[\"user\"] = df[\"user\"].map(lambda user: translation[user])\n",
    "\n",
    "# picked data\n",
    "column_csv = \"duration\"\n",
    "column_csv_translation = \"Čas presunu [min]\"\n",
    "df_times: pd.DataFrame = df[[\"user\", \"phase\", column_csv]]\n",
    "df_times[\"duration\"] /= 60\n",
    "\n",
    "# legend colours and names\n",
    "legend_names = [\"1\", \"2\", \"3\"]\n",
    "legend_patches = [mpatches.Patch(color='#cb3335'), mpatches.Patch(\n",
    "    color='#477ca8'), mpatches.Patch(color='#59a257')]\n",
    "\n",
    "# plotting\n",
    "fig = plt.figure()\n",
    "sns.boxplot(x=\"user\", y=column_csv, hue=\"phase\", data=df_times, palette=\"Set1\", boxprops=dict(alpha=.3),\n",
    "            showfliers=False)\n",
    "ax = sns.stripplot(x=\"user\", y=column_csv, hue=\"phase\",\n",
    "                   data=df_times, dodge=True, palette=\"Set1\")\n",
    "ax.get_legend().remove()\n",
    "plt.xlabel(\"Participanti\")\n",
    "plt.ylabel(column_csv_translation)\n",
    "fig.legend(title='Fázy', labels=legend_names,\n",
    "           handles=legend_patches,\n",
    "           fancybox=True, shadow=True, loc='upper center', ncol=len(legend_patches))\n",
    "plt.show()"
   ],
   "cell_type": "code",
   "metadata": {},
   "execution_count": 145,
   "outputs": [
    {
     "output_type": "stream",
     "name": "stderr",
     "text": [
      "<ipython-input-145-6fdb40c265c2>:9: SettingWithCopyWarning: \nA value is trying to be set on a copy of a slice from a DataFrame.\nTry using .loc[row_indexer,col_indexer] = value instead\n\nSee the caveats in the documentation: https://pandas.pydata.org/pandas-docs/stable/user_guide/indexing.html#returning-a-view-versus-a-copy\n  df_times[\"duration\"] /= 60\n"
     ]
    }
   ]
  },
  {
   "source": [
    "### bar__time_phase_participant"
   ],
   "cell_type": "markdown",
   "metadata": {}
  },
  {
   "cell_type": "code",
   "execution_count": 148,
   "metadata": {},
   "outputs": [],
   "source": [
    "# grouping by user and phase -> mean\n",
    "grouped = df_times.groupby(by=[\"user\", \"phase\"], as_index=False).mean()\n",
    "\n",
    "# sorting it, so the users are in order on chart\n",
    "sort_keys = {f\"P{i}\": i for i in range(12)}\n",
    "grouped[\"user_id\"] = [sort_keys[user] for user in grouped.user]\n",
    "grouped = grouped.sort_values(by=\"user_id\")\n",
    "\n",
    "# legend colours and names\n",
    "legend_names = [\"1\", \"2\", \"3\"]\n",
    "legend_patches = [mpatches.Patch(color='#cb3335'), mpatches.Patch(color='#477ca8'), mpatches.Patch(color='#59a257')]\n",
    "\n",
    "# plotting\n",
    "fig = plt.figure()\n",
    "ax = sns.barplot(x=\"user\", y=\"duration\", hue=\"phase\", data=grouped, palette=\"Set1\")\n",
    "ax.get_legend().remove()\n",
    "plt.xlabel(\"Participanti\")\n",
    "plt.ylabel(\"Priemerný čas presunu [min]\")\n",
    "fig.legend(title='Fáza', labels=legend_names,\n",
    "           handles=legend_patches,\n",
    "           fancybox=True, shadow=True, loc='upper center', ncol=len(legend_patches))\n",
    "plt.show()"
   ]
  },
  {
   "cell_type": "code",
   "execution_count": null,
   "metadata": {},
   "outputs": [],
   "source": []
  }
 ]
}