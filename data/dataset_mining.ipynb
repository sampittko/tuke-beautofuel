{
 "metadata": {
  "language_info": {
   "codemirror_mode": {
    "name": "ipython",
    "version": 3
   },
   "file_extension": ".py",
   "mimetype": "text/x-python",
   "name": "python",
   "nbconvert_exporter": "python",
   "pygments_lexer": "ipython3",
   "version": "3.8.5-final"
  },
  "orig_nbformat": 2,
  "kernelspec": {
   "name": "python385jvsc74a57bd04e4b1c0eba25b43fb0828087952fe1bfe39b80460d2a5f528a72e68cadaca174",
   "display_name": "Python 3.8.5 64-bit ('base': conda)"
  }
 },
 "nbformat": 4,
 "nbformat_minor": 2,
 "cells": [
  {
   "source": [
    "# Visualizations"
   ],
   "cell_type": "markdown",
   "metadata": {}
  },
  {
   "cell_type": "code",
   "execution_count": null,
   "metadata": {},
   "outputs": [],
   "source": [
    "%matplotlib qt\n",
    "\n",
    "from matplotlib import patches as mpatches\n",
    "from collections import Counter\n",
    "\n",
    "import pandas as pd\n",
    "import matplotlib.pyplot as plt\n",
    "import seaborn as sns\n",
    "\n",
    "sns.set_context(\"paper\")\n",
    "sns.set(font=\"Times New Roman\", font_scale=1.50)\n",
    "sns.set_style(\"whitegrid\")\n",
    "\n",
    "# load\n",
    "csv_path = \"./data/anonymized/tracks.csv\"\n",
    "\n",
    "df: pd.DataFrame = pd.read_csv(csv_path, sep=\",\")\n",
    "df: pd.DataFrame = df.drop(\n",
    "    df[df[\"user\"] == \"participant_7\"].index)  # ignore participant 7"
   ]
  },
  {
   "source": [
    "## Motivation\n",
    "### box__consumption_phase_participant"
   ],
   "cell_type": "markdown",
   "metadata": {}
  },
  {
   "cell_type": "code",
   "execution_count": null,
   "metadata": {},
   "outputs": [],
   "source": [
    "# translation of xticks\n",
    "translation = {f\"participant_{i}\": f\"P{i}\" for i in range(12)}\n",
    "df[\"user\"] = df[\"user\"].map(lambda user: translation[user])\n",
    "\n",
    "column_csv = \"consumption\"\n",
    "column_csv_translation = \"Spotreba paliva [L/100km]\"\n",
    "\n",
    "# picked data\n",
    "df_boxplot: pd.DataFrame = df[[\"user\", \"phase\", column_csv]]\n",
    "\n",
    "# legend colours and names\n",
    "legend_names = [\"1\", \"2\", \"3\"]\n",
    "legend_patches = [mpatches.Patch(color='#cb3335'), mpatches.Patch(\n",
    "    color='#477ca8'), mpatches.Patch(color='#59a257')]\n",
    "\n",
    "# plotting\n",
    "fig = plt.figure()\n",
    "sns.boxplot(x=\"user\", y=column_csv, hue=\"phase\", data=df_boxplot, palette=\"Set1\", boxprops=dict(alpha=.3),\n",
    "            showfliers=False)\n",
    "ax = sns.stripplot(x=\"user\", y=column_csv, hue=\"phase\",\n",
    "                   data=df_boxplot, dodge=True, palette=\"Set1\")\n",
    "ax.get_legend().remove()\n",
    "plt.xlabel(\"Participanti\")\n",
    "plt.ylabel(column_csv_translation)\n",
    "fig.legend(title='Fázy', labels=legend_names,\n",
    "           handles=legend_patches,\n",
    "           fancybox=True, shadow=True, loc='upper center', ncol=len(legend_patches))\n",
    "plt.show()"
   ]
  },
  {
   "source": [
    "### box__score_phase_participant"
   ],
   "cell_type": "markdown",
   "metadata": {}
  },
  {
   "cell_type": "code",
   "execution_count": null,
   "metadata": {},
   "outputs": [],
   "source": [
    "# translation of xticks\n",
    "translation = {f\"participant_{i}\": f\"P{i}\" for i in range(12)}\n",
    "df[\"user\"] = df[\"user\"].map(lambda user: translation[user])\n",
    "\n",
    "column_csv = \"score\"\n",
    "column_csv_translation = \"Ekologické skóre [-]\"\n",
    "\n",
    "# picked data\n",
    "df_boxplot: pd.DataFrame = df[[\"user\", \"phase\", column_csv]]\n",
    "df_boxplot: pd.DataFrame = df_boxplot.drop(df_boxplot[df_boxplot[\"phase\"] == 1].index)\n",
    "\n",
    "# legend colours and names\n",
    "legend_names = [\"2\", \"3\"]\n",
    "legend_patches = [mpatches.Patch(color='#cb3335'), mpatches.Patch(\n",
    "    color='#477ca8')]\n",
    "\n",
    "# plotting\n",
    "fig = plt.figure()\n",
    "sns.boxplot(x=\"user\", y=column_csv, hue=\"phase\", data=df_boxplot, palette=\"Set1\", boxprops=dict(alpha=.3),\n",
    "            showfliers=False)\n",
    "ax = sns.stripplot(x=\"user\", y=column_csv, hue=\"phase\",\n",
    "                   data=df_boxplot, dodge=True, palette=\"Set1\")\n",
    "ax.get_legend().remove()\n",
    "plt.xlabel(\"Participanti\")\n",
    "plt.ylabel(column_csv_translation)\n",
    "fig.legend(title='Fázy', labels=legend_names,\n",
    "           handles=legend_patches,\n",
    "           fancybox=True, shadow=True, loc='upper center', ncol=len(legend_patches))\n",
    "plt.show()"
   ]
  },
  {
   "source": [
    "### box__consumption_phase_strategy"
   ],
   "cell_type": "markdown",
   "metadata": {}
  },
  {
   "cell_type": "code",
   "execution_count": null,
   "metadata": {},
   "outputs": [],
   "source": [
    "column_csv = \"consumption\"\n",
    "column_csv_translation = \"Spotreba paliva [L/100km]\"\n",
    "\n",
    "df_strategy = df[[column_csv, \"phase\", \"strategy\"]]\n",
    "df_strategy = df_strategy.drop(df_strategy[df_strategy[\"phase\"] == 1].index)\n",
    "\n",
    "# legend colours and names\n",
    "legend_names = [\"Odmeny\", \"Gamifikácia\"]\n",
    "legend_patches = [mpatches.Patch(\n",
    "    color='#cb3335'), mpatches.Patch(color='#477ca8')]\n",
    "\n",
    "# plotting\n",
    "fig = plt.figure()\n",
    "sns.boxplot(x=\"phase\", y=column_csv, hue=\"strategy\", data=df_strategy, palette=\"Set1\", boxprops=dict(alpha=.3),\n",
    "            showfliers=False)\n",
    "ax = sns.stripplot(x=\"phase\", y=column_csv, hue=\"strategy\",\n",
    "                   data=df_strategy, dodge=True, palette=\"Set1\")\n",
    "ax.get_legend().remove()\n",
    "plt.xlabel(\"Fáza\")\n",
    "plt.ylabel(column_csv_translation)\n",
    "fig.legend(title='Motivačná stratégia', labels=legend_names,\n",
    "           handles=legend_patches,\n",
    "           fancybox=True, shadow=True, loc='upper center', ncol=len(legend_patches))\n",
    "plt.show()"
   ]
  },
  {
   "source": [
    "### box__score_phase_strategy"
   ],
   "cell_type": "markdown",
   "metadata": {}
  },
  {
   "cell_type": "code",
   "execution_count": null,
   "metadata": {},
   "outputs": [],
   "source": [
    "column_csv = \"score\"\n",
    "column_csv_translation = \"Ekologické skóre [-]\"\n",
    "\n",
    "df_strategy = df[[column_csv, \"phase\", \"strategy\"]]\n",
    "df_strategy = df_strategy.drop(df_strategy[df_strategy[\"phase\"] == 1].index)\n",
    "\n",
    "# legend colours and names\n",
    "legend_names = [\"Odmeny\", \"Gamifikácia\"]\n",
    "legend_patches = [mpatches.Patch(\n",
    "    color='#cb3335'), mpatches.Patch(color='#477ca8')]\n",
    "\n",
    "# plotting\n",
    "fig = plt.figure()\n",
    "sns.boxplot(x=\"phase\", y=column_csv, hue=\"strategy\", data=df_strategy, palette=\"Set1\", boxprops=dict(alpha=.3),\n",
    "            showfliers=False)\n",
    "ax = sns.stripplot(x=\"phase\", y=column_csv, hue=\"strategy\",\n",
    "                   data=df_strategy, dodge=True, palette=\"Set1\")\n",
    "ax.get_legend().remove()\n",
    "plt.xlabel(\"Fáza\")\n",
    "plt.ylabel(column_csv_translation)\n",
    "fig.legend(title='Motivačná stratégia', labels=legend_names,\n",
    "           handles=legend_patches,\n",
    "           fancybox=True, shadow=True, loc='upper center', ncol=len(legend_patches))\n",
    "plt.show()"
   ]
  },
  {
   "source": [
    "### bar__consumption_phase_participant"
   ],
   "cell_type": "markdown",
   "metadata": {}
  },
  {
   "cell_type": "code",
   "execution_count": null,
   "metadata": {},
   "outputs": [],
   "source": [
    "# picked data\n",
    "column_csv = \"consumption\"\n",
    "df_consumption: pd.DataFrame = df[[\"user\", \"phase\", column_csv]]\n",
    "\n",
    "# translation of xticks\n",
    "translation = {f\"participant_{i}\": f\"P{i}\" for i in range(12)}\n",
    "df_consumption[\"user\"] = df_consumption[\"user\"].map(lambda user: translation[user])\n",
    "\n",
    "# grouping by user and phase -> mean\n",
    "grouped = df_consumption.groupby(by=[\"user\", \"phase\"], as_index=False).mean()\n",
    "\n",
    "# sorting it, so the users are in order on chart\n",
    "sort_keys = {f\"P{i}\": i for i in range(12)}\n",
    "grouped[\"user_id\"] = [sort_keys[user] for user in grouped.user]\n",
    "grouped = grouped.sort_values(by=\"user_id\")\n",
    "\n",
    "# legend colours and names\n",
    "legend_names = [\"1\", \"2\", \"3\"]\n",
    "legend_patches = [mpatches.Patch(color='#cb3335'), mpatches.Patch(color='#477ca8'), mpatches.Patch(color='#59a257')]\n",
    "\n",
    "# plotting\n",
    "fig = plt.figure()\n",
    "ax = sns.barplot(x=\"user\", y=\"consumption\", hue=\"phase\", data=grouped, palette=\"Set1\")\n",
    "ax.get_legend().remove()\n",
    "plt.xlabel(\"Participanti\")\n",
    "plt.ylabel(\"Priemerný čas presunu [min]\")\n",
    "fig.legend(title='Fáza', labels=legend_names,\n",
    "           handles=legend_patches,\n",
    "           fancybox=True, shadow=True, loc='upper center', ncol=len(legend_patches))\n",
    "plt.show()"
   ]
  },
  {
   "source": [
    "### bar__speed_phase_participant"
   ],
   "cell_type": "markdown",
   "metadata": {}
  },
  {
   "cell_type": "code",
   "execution_count": null,
   "metadata": {},
   "outputs": [],
   "source": [
    "# picked data\n",
    "column_csv = \"speed\"\n",
    "df_speed: pd.DataFrame = df[[\"user\", \"phase\", column_csv]]\n",
    "\n",
    "# translation of xticks\n",
    "translation = {f\"participant_{i}\": f\"P{i}\" for i in range(12)}\n",
    "df_speed[\"user\"] = df_speed[\"user\"].map(lambda user: translation[user])\n",
    "\n",
    "# grouping by user and phase -> mean\n",
    "grouped = df_speed.groupby(by=[\"user\", \"phase\"], as_index=False).mean()\n",
    "\n",
    "# sorting it, so the users are in order on chart\n",
    "sort_keys = {f\"P{i}\": i for i in range(12)}\n",
    "grouped[\"user_id\"] = [sort_keys[user] for user in grouped.user]\n",
    "grouped = grouped.sort_values(by=\"user_id\")\n",
    "\n",
    "# legend colours and names\n",
    "legend_names = [\"1\", \"2\", \"3\"]\n",
    "legend_patches = [mpatches.Patch(color='#cb3335'), mpatches.Patch(color='#477ca8'), mpatches.Patch(color='#59a257')]\n",
    "\n",
    "# plotting\n",
    "fig = plt.figure()\n",
    "ax = sns.barplot(x=\"user\", y=\"speed\", hue=\"phase\", data=grouped, palette=\"Set1\")\n",
    "ax.get_legend().remove()\n",
    "plt.xlabel(\"Participanti\")\n",
    "plt.ylabel(\"Priemerná rýchlosť [km/h]\")\n",
    "fig.legend(title='Fáza', labels=legend_names,\n",
    "           handles=legend_patches,\n",
    "           fancybox=True, shadow=True, loc='upper center', ncol=len(legend_patches))\n",
    "plt.show()"
   ]
  },
  {
   "source": [
    "### box__time_phase_participant"
   ],
   "cell_type": "markdown",
   "metadata": {}
  },
  {
   "source": [
    "# translation of xticks\n",
    "translation = {f\"participant_{i}\": f\"P{i}\" for i in range(12)}\n",
    "df[\"user\"] = df[\"user\"].map(lambda user: translation[user])\n",
    "\n",
    "# picked data\n",
    "column_csv = \"duration\"\n",
    "column_csv_translation = \"Čas presunu [min]\"\n",
    "df_times: pd.DataFrame = df[[\"user\", \"phase\", column_csv]]\n",
    "df_times[\"duration\"] /= 60\n",
    "\n",
    "# legend colours and names\n",
    "legend_names = [\"1\", \"2\", \"3\"]\n",
    "legend_patches = [mpatches.Patch(color='#cb3335'), mpatches.Patch(\n",
    "    color='#477ca8'), mpatches.Patch(color='#59a257')]\n",
    "\n",
    "# plotting\n",
    "fig = plt.figure()\n",
    "sns.boxplot(x=\"user\", y=column_csv, hue=\"phase\", data=df_times, palette=\"Set1\", boxprops=dict(alpha=.3),\n",
    "            showfliers=False)\n",
    "ax = sns.stripplot(x=\"user\", y=column_csv, hue=\"phase\",\n",
    "                   data=df_times, dodge=True, palette=\"Set1\")\n",
    "ax.get_legend().remove()\n",
    "plt.xlabel(\"Participanti\")\n",
    "plt.ylabel(column_csv_translation)\n",
    "fig.legend(title='Fázy', labels=legend_names,\n",
    "           handles=legend_patches,\n",
    "           fancybox=True, shadow=True, loc='upper center', ncol=len(legend_patches))\n",
    "plt.show()"
   ],
   "cell_type": "code",
   "metadata": {},
   "execution_count": null,
   "outputs": []
  },
  {
   "source": [
    "### bar__time_phase_participant"
   ],
   "cell_type": "markdown",
   "metadata": {}
  },
  {
   "cell_type": "code",
   "execution_count": null,
   "metadata": {},
   "outputs": [],
   "source": [
    "# translation of xticks\n",
    "translation = {f\"participant_{i}\": f\"P{i}\" for i in range(12)}\n",
    "df[\"user\"] = df[\"user\"].map(lambda user: translation[user])\n",
    "\n",
    "# picked data\n",
    "column_csv = \"duration\"\n",
    "df_times: pd.DataFrame = df[[\"user\", \"phase\", column_csv]]\n",
    "df_times[\"duration\"] /= 60\n",
    "\n",
    "# grouping by user and phase -> mean\n",
    "grouped = df_times.groupby(by=[\"user\", \"phase\"], as_index=False).mean()\n",
    "\n",
    "# sorting it, so the users are in order on chart\n",
    "sort_keys = {f\"P{i}\": i for i in range(12)}\n",
    "grouped[\"user_id\"] = [sort_keys[user] for user in grouped.user]\n",
    "grouped = grouped.sort_values(by=\"user_id\")\n",
    "\n",
    "# legend colours and names\n",
    "legend_names = [\"1\", \"2\", \"3\"]\n",
    "legend_patches = [mpatches.Patch(color='#cb3335'), mpatches.Patch(color='#477ca8'), mpatches.Patch(color='#59a257')]\n",
    "\n",
    "# plotting\n",
    "fig = plt.figure()\n",
    "ax = sns.barplot(x=\"user\", y=\"duration\", hue=\"phase\", data=grouped, palette=\"Set1\")\n",
    "ax.get_legend().remove()\n",
    "plt.xlabel(\"Participanti\")\n",
    "plt.ylabel(\"Priemerný čas presunu [min]\")\n",
    "fig.legend(title='Fáza', labels=legend_names,\n",
    "           handles=legend_patches,\n",
    "           fancybox=True, shadow=True, loc='upper center', ncol=len(legend_patches))\n",
    "plt.show()"
   ]
  },
  {
   "source": [
    "### bar__fuelconsumed_phase_participant"
   ],
   "cell_type": "markdown",
   "metadata": {}
  },
  {
   "cell_type": "code",
   "execution_count": null,
   "metadata": {},
   "outputs": [],
   "source": [
    "# translation of xticks\n",
    "translation = {f\"participant_{i}\": f\"P{i}\" for i in range(12)}\n",
    "df[\"user\"] = df[\"user\"].map(lambda user: translation[user])\n",
    "\n",
    "# picked data\n",
    "column_csv = \"fuelConsumed\"\n",
    "df_fuel: pd.DataFrame = df[[\"user\", \"phase\", column_csv]]\n",
    "\n",
    "# grouping by user and phase -> mean\n",
    "grouped = df_fuel.groupby(by=[\"user\", \"phase\"], as_index=False).sum()\n",
    "\n",
    "# sorting it, so the users are in order on chart\n",
    "sort_keys = {f\"P{i}\": i for i in range(12)}\n",
    "grouped[\"user_id\"] = [sort_keys[user] for user in grouped.user]\n",
    "grouped = grouped.sort_values(by=\"user_id\")\n",
    "\n",
    "# legend colours and names\n",
    "legend_names = [\"1\", \"2\", \"3\"]\n",
    "legend_patches = [mpatches.Patch(color='#cb3335'), mpatches.Patch(color='#477ca8'), mpatches.Patch(color='#59a257')]\n",
    "\n",
    "# plotting\n",
    "fig = plt.figure()\n",
    "ax = sns.barplot(x=\"user\", y=\"fuelConsumed\", hue=\"phase\", data=grouped, palette=\"Set1\")\n",
    "ax.get_legend().remove()\n",
    "plt.xlabel(\"Participanti\")\n",
    "plt.ylabel(\"Celkové spotrebované množstvo paliva [L]\")\n",
    "fig.legend(title='Fáza', labels=legend_names,\n",
    "           handles=legend_patches,\n",
    "           fancybox=True, shadow=True, loc='upper center', ncol=len(legend_patches))\n",
    "plt.show()"
   ]
  },
  {
   "source": [
    "## Rules\n",
    "### bar__tracks_phase_participant"
   ],
   "cell_type": "markdown",
   "metadata": {}
  },
  {
   "cell_type": "code",
   "execution_count": null,
   "metadata": {},
   "outputs": [],
   "source": [
    "# translation of xticks\n",
    "translation = {f\"participant_{i}\": f\"P{i}\" for i in range(12)}\n",
    "df[\"user\"] = df[\"user\"].map(lambda user: translation[user])\n",
    "\n",
    "column_csv = \"user\"\n",
    "\n",
    "df_counting = df[[column_csv, \"phase\"]]\n",
    "counts_for_phases = {i: Counter(\n",
    "    df_counting[df_counting[\"phase\"] == i][column_csv]) for i in range(1, 4)}\n",
    "\n",
    "data = {\n",
    "    \"Participant\": [],\n",
    "    \"Fáza\": [],\n",
    "    \"Počet\": []\n",
    "}\n",
    "\n",
    "for phase in counts_for_phases.keys():\n",
    "    for user in counts_for_phases[phase].keys():\n",
    "        data[\"Participant\"].append(user)\n",
    "        data[\"Fáza\"].append(phase)\n",
    "        data[\"Počet\"].append(counts_for_phases[phase][user])\n",
    "df_counting = pd.DataFrame.from_dict(data)\n",
    "\n",
    "# legend colours and names\n",
    "legend_names = [\"1\", \"2\", \"3\"]\n",
    "legend_patches = [mpatches.Patch(color='#cb3335'), mpatches.Patch(\n",
    "    color='#477ca8'), mpatches.Patch(color='#59a257')]\n",
    "\n",
    "# plotting\n",
    "fig = plt.figure()\n",
    "ax = sns.barplot(x=\"Participant\", y=\"Počet\", hue=\"Fáza\",\n",
    "                 data=df_counting, palette=\"Set1\")\n",
    "ax.get_legend().remove()\n",
    "plt.xlabel(\"Participanti\")\n",
    "plt.ylabel(\"Počet jázd [-]\")\n",
    "fig.legend(title='Fáza', labels=legend_names,\n",
    "           handles=legend_patches,\n",
    "           fancybox=True, shadow=True, loc='upper center', ncol=len(legend_patches))\n",
    "plt.show()"
   ]
  },
  {
   "source": [
    "### bar__length_phase_participant"
   ],
   "cell_type": "markdown",
   "metadata": {}
  },
  {
   "cell_type": "code",
   "execution_count": null,
   "metadata": {},
   "outputs": [],
   "source": [
    "# picked data\n",
    "column_csv = \"length\"\n",
    "df_length: pd.DataFrame = df[[\"user\", \"phase\", column_csv]]\n",
    "\n",
    "# translation of xticks\n",
    "translation = {f\"participant_{i}\": f\"P{i}\" for i in range(12)}\n",
    "df_length[\"user\"] = df_length[\"user\"].map(lambda user: translation[user])\n",
    "\n",
    "# grouping by user and phase -> mean\n",
    "grouped = df_length.groupby(by=[\"user\", \"phase\"], as_index=False).mean()\n",
    "\n",
    "# sorting it, so the users are in order on chart\n",
    "sort_keys = {f\"P{i}\": i for i in range(12)}\n",
    "grouped[\"user_id\"] = [sort_keys[user] for user in grouped.user]\n",
    "grouped = grouped.sort_values(by=\"user_id\")\n",
    "\n",
    "# legend colours and names\n",
    "legend_names = [\"1\", \"2\", \"3\"]\n",
    "legend_patches = [mpatches.Patch(color='#cb3335'), mpatches.Patch(color='#477ca8'), mpatches.Patch(color='#59a257')]\n",
    "\n",
    "# plotting\n",
    "fig = plt.figure()\n",
    "ax = sns.barplot(x=\"user\", y=\"length\", hue=\"phase\", data=grouped, palette=\"Set1\")\n",
    "ax.get_legend().remove()\n",
    "plt.xlabel(\"Participanti\")\n",
    "plt.ylabel(\"Priemerná vzdialenosť presunu [min]\")\n",
    "fig.legend(title='Fáza', labels=legend_names,\n",
    "           handles=legend_patches,\n",
    "           fancybox=True, shadow=True, loc='upper center', ncol=len(legend_patches))\n",
    "plt.show()"
   ]
  },
  {
   "source": [
    "### box__length_phase_participant"
   ],
   "cell_type": "markdown",
   "metadata": {}
  },
  {
   "cell_type": "code",
   "execution_count": null,
   "metadata": {},
   "outputs": [],
   "source": [
    "# translation of xticks\n",
    "translation = {f\"participant_{i}\": f\"P{i}\" for i in range(12)}\n",
    "df[\"user\"] = df[\"user\"].map(lambda user: translation[user])\n",
    "\n",
    "column_csv = \"length\"\n",
    "column_csv_translation = \"Prejdená vzdialenosť [km]\"\n",
    "\n",
    "# picked data\n",
    "df_boxplot: pd.DataFrame = df[[\"user\", \"phase\", column_csv]]\n",
    "\n",
    "# legend colours and names\n",
    "legend_names = [\"1\", \"2\", \"3\"]\n",
    "legend_patches = [mpatches.Patch(color='#cb3335'), mpatches.Patch(\n",
    "    color='#477ca8'), mpatches.Patch(color='#59a257')]\n",
    "\n",
    "# plotting\n",
    "fig = plt.figure()\n",
    "sns.boxplot(x=\"user\", y=column_csv, hue=\"phase\", data=df_boxplot, palette=\"Set1\", boxprops=dict(alpha=.3),\n",
    "            showfliers=False)\n",
    "ax = sns.stripplot(x=\"user\", y=column_csv, hue=\"phase\",\n",
    "                   data=df_boxplot, dodge=True, palette=\"Set1\")\n",
    "ax.get_legend().remove()\n",
    "plt.xlabel(\"Participanti\")\n",
    "plt.ylabel(column_csv_translation)\n",
    "fig.legend(title='Fázy', labels=legend_names,\n",
    "           handles=legend_patches,\n",
    "           fancybox=True, shadow=True, loc='upper center', ncol=len(legend_patches))\n",
    "plt.show()"
   ]
  },
  {
   "source": [
    "## Misc\n",
    "### corr_matrix"
   ],
   "cell_type": "markdown",
   "metadata": {}
  },
  {
   "cell_type": "code",
   "execution_count": null,
   "metadata": {},
   "outputs": [],
   "source": [
    "df_corr: pd.DataFrame = df[['consumption', 'duration', 'fuelConsumed', 'length', 'score', 'speed']]\n",
    "\n",
    "f = plt.figure(figsize=(19, 15))\n",
    "ax = sns.heatmap(df_corr.corr(), annot=True)\n",
    "ax.set_title('Korelačná matica', fontsize=16)\n",
    "\n",
    "del f, ax"
   ]
  },
  {
   "source": [
    "### tt__parametric"
   ],
   "cell_type": "markdown",
   "metadata": {}
  },
  {
   "cell_type": "code",
   "execution_count": null,
   "metadata": {},
   "outputs": [],
   "source": [
    "from scipy.stats import ttest_ind, shapiro\n",
    "import seaborn as sns\n",
    "\n",
    "# control groups\n",
    "rewards = df[df['strategy'] == 'rewards']\n",
    "gamification = df[df['strategy'] == 'gamification']\n",
    "\n",
    "# statistical test - normal distribution\n",
    "print(shapiro(rewards['consumption']))\n",
    "print(shapiro(gamification['consumption']))\n",
    "\n",
    "# ttest - independent samples of scores\n",
    "print(ttest_ind(rewards['consumption'], gamification['consumption']))\n",
    "\n",
    "sns.displot(df, x=\"consumption\", hue=\"strategy\", multiple=\"dodge\")\n"
   ]
  },
  {
   "cell_type": "code",
   "execution_count": null,
   "metadata": {},
   "outputs": [],
   "source": []
  }
 ]
}