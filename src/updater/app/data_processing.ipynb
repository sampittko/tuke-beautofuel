{
 "cells": [
  {
   "cell_type": "markdown",
   "metadata": {},
   "source": [
    "# Data Processing Pipeline for beautofuel"
   ]
  },
  {
   "cell_type": "code",
   "execution_count": null,
   "metadata": {},
   "outputs": [],
   "source": [
    "%load_ext autoreload\n",
    "%autoreload 2\n",
    "\n",
    "import pandas as pd\n",
    "import geopandas as gpd\n",
    "from datetime import datetime, timedelta\n",
    "import geopy.distance\n",
    "\n",
    "from lib.packages.envirocar import TrackAPI, BboxSelector, TimeSelector, ECConfig\n",
    "from lib.packages.eda_quality import correction as correct\n",
    "from lib.packages.eda_quality import manipulation as manipulate\n",
    "from lib.packages.eda_quality import inspection as inspect\n",
    "from lib.packages.vehicle_eco_balance import get_interval_time"
   ]
  },
  {
   "source": [
    "## Pipeline configuration"
   ],
   "cell_type": "markdown",
   "metadata": {}
  },
  {
   "cell_type": "code",
   "execution_count": null,
   "metadata": {},
   "outputs": [],
   "source": [
    "# How many days behind to look for tracks\n",
    "days_to_look_back=120\n",
    "\n",
    "# User\n",
    "config = ECConfig(username=\"samko\", password=\"someamazingtotallyrandomtoken\")\n",
    "\n",
    "track_api = TrackAPI()"
   ]
  },
  {
   "source": [
    "## Tracks fetching"
   ],
   "cell_type": "markdown",
   "metadata": {}
  },
  {
   "cell_type": "code",
   "execution_count": null,
   "metadata": {},
   "outputs": [],
   "source": [
    "# Boundary box for Slovakia\n",
    "bbox = BboxSelector([\n",
    "    16.76425013529685, # min_x\n",
    "    47.37325224412486, # min_y\n",
    "    22.594816079401987, # max_x\n",
    "    49.7297265173567 # max_y\n",
    "])\n",
    "\n",
    "# Tracks time interval\n",
    "datetime_format = \"%Y-%m-%dT%H:%M:%S+00:00\"\n",
    "start_time = datetime.today() - timedelta(days=days_to_look_back)\n",
    "end_time = datetime.now()\n",
    "time_interval = TimeSelector(start_time=start_time.strftime(datetime_format), end_time=end_time.strftime(datetime_format))\n",
    "\n",
    "# Fetch from enviroCar API\n",
    "tracks_df = track_api.get_tracks(bbox=bbox, time_interval=time_interval)\n",
    "\n",
    "tracks_df.plot()"
   ]
  },
  {
   "source": [
    "## Data cleaning and pre-processing"
   ],
   "cell_type": "markdown",
   "metadata": {}
  },
  {
   "cell_type": "code",
   "execution_count": null,
   "metadata": {},
   "outputs": [],
   "source": [
    "# Drop duplicated rows\n",
    "tracks_df = correct.drop_duplicates(tracks_df)\n",
    "\n",
    "# Remove tracks that exceed 8 hours of duration time\n",
    "_, tracks_df, _ = correct.exceed_eight_hours(tracks_df, flag=False)\n",
    "\n",
    "# Remove tracks that falls below x minutes of duration time\n",
    "_, tracks_df, _ = correct.below_x_min(tracks_df, x=3, flag=False)\n",
    "\n",
    "# Remove tracks that exceed 250 km/h speed\n",
    "_, tracks_df, _ = correct.implausible_max_speed(tracks_df, flag=False)\n",
    "\n",
    "# Drop unit colums since we are not interested in them\n",
    "manipulate.drop_unit_columns(tracks_df).head()\n",
    "\n",
    "track_ids = tracks_df['track.id'].unique()"
   ]
  }
 ],
 "metadata": {
  "kernelspec": {
   "name": "python3",
   "display_name": "Python 3.8.5 64-bit ('base': conda)",
   "metadata": {
    "interpreter": {
     "hash": "4e4b1c0eba25b43fb0828087952fe1bfe39b80460d2a5f528a72e68cadaca174"
    }
   }
  },
  "language_info": {
   "codemirror_mode": {
    "name": "ipython",
    "version": 3
   },
   "file_extension": ".py",
   "mimetype": "text/x-python",
   "name": "python",
   "nbconvert_exporter": "python",
   "pygments_lexer": "ipython3",
   "version": "3.8.5-final"
  }
 },
 "nbformat": 4,
 "nbformat_minor": 4
}