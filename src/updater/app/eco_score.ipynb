{
 "cells": [
  {
   "cell_type": "markdown",
   "metadata": {},
   "source": [
    "# Eco Score Pipeline for beautofuel"
   ]
  },
  {
   "source": [
    "%load_ext autoreload\n",
    "%autoreload 2\n",
    "\n",
    "from influxdb import DataFrameClient\n",
    "\n",
    "from lib.utils.constants import INFLUXDB_HOST, INFLUXDB_PORT, INFLUXDB_USER, INFLUXDB_PASSWORD, INFLUXDB_DB"
   ],
   "cell_type": "code",
   "metadata": {},
   "execution_count": 28,
   "outputs": [
    {
     "output_type": "stream",
     "name": "stdout",
     "text": [
      "The autoreload extension is already loaded. To reload it, use:\n  %reload_ext autoreload\n"
     ]
    }
   ]
  },
  {
   "source": [
    "## Pipeline configuration"
   ],
   "cell_type": "markdown",
   "metadata": {}
  },
  {
   "cell_type": "code",
   "execution_count": 29,
   "metadata": {},
   "outputs": [],
   "source": [
    "# Database client\n",
    "grafanadb = DataFrameClient(\n",
    "    host=INFLUXDB_HOST,\n",
    "    port=INFLUXDB_PORT,\n",
    "    database=INFLUXDB_DB,\n",
    "    username=INFLUXDB_USER,\n",
    "    password=INFLUXDB_PASSWORD\n",
    ")\n",
    "\n",
    "user = \"zlatka\""
   ]
  },
  {
   "source": [
    "## Helper functions"
   ],
   "cell_type": "markdown",
   "metadata": {}
  },
  {
   "cell_type": "code",
   "execution_count": 30,
   "metadata": {},
   "outputs": [],
   "source": [
    "def get_query_result_value(result, field):\n",
    "    return result['tracks'][field][0]"
   ]
  },
  {
   "source": [
    "## Setup Queries"
   ],
   "cell_type": "markdown",
   "metadata": {}
  },
  {
   "cell_type": "code",
   "execution_count": 31,
   "metadata": {},
   "outputs": [],
   "source": [
    "query_end = \"FROM \\\"tracks\\\" WHERE (\\\"phase\\\"='1' AND \\\"user\\\"='{}')\".format(user)\n",
    "\n",
    "# All tracks query\n",
    "query = \"SELECT \\\"length\\\", \\\"consumption\\\", \\\"fuelConsumed\\\", \\\"speed\\\" {};\".format(query_end)\n",
    "\n",
    "# Consumption queries\n",
    "stdddev_consumption_query = \"SELECT stddev(\\\"consumption\\\") {};\".format(query_end)\n",
    "mean_consumption_query = \"SELECT mean(\\\"consumption\\\") {};\".format(query_end)\n",
    "min_consumption_query = \"SELECT min(\\\"consumption\\\") {};\".format(query_end)\n",
    "max_consumption_query = \"SELECT max(\\\"consumption\\\") {};\".format(query_end)\n",
    "\n",
    "# Speed queries\n",
    "stdddev_speed_query = \"SELECT stddev(\\\"speed\\\") {};\".format(query_end)\n",
    "mean_speed_query = \"SELECT mean(\\\"speed\\\") {};\".format(query_end)\n",
    "min_speed_query = \"SELECT min(\\\"speed\\\") {};\".format(query_end)\n",
    "max_speed_query = \"SELECT max(\\\"speed\\\") {};\".format(query_end)\n",
    "\n",
    "# Fuel consumed queries\n",
    "stdddev_fuel_consumed_query = \"SELECT stddev(\\\"fuelConsumed\\\") {};\".format(query_end)\n",
    "mean_fuel_consumed_query = \"SELECT mean(\\\"fuelConsumed\\\") {};\".format(query_end)\n",
    "min_fuel_consumed_query = \"SELECT min(\\\"fuelConsumed\\\") {};\".format(query_end)\n",
    "max_fuel_consumed_query = \"SELECT max(\\\"fuelConsumed\\\") {};\".format(query_end)\n",
    "\n",
    "# Length queries\n",
    "stdddev_length_query = \"SELECT stddev(\\\"length\\\") {};\".format(query_end)\n",
    "mean_length_query = \"SELECT mean(\\\"length\\\") {};\".format(query_end)\n",
    "min_length_query = \"SELECT min(\\\"length\\\") {};\".format(query_end)\n",
    "max_length_query = \"SELECT max(\\\"length\\\") {};\".format(query_end)"
   ]
  },
  {
   "source": [
    "## Execute Queries"
   ],
   "cell_type": "markdown",
   "metadata": {}
  },
  {
   "cell_type": "code",
   "execution_count": 32,
   "metadata": {},
   "outputs": [],
   "source": [
    "# Execute all tracks query\n",
    "tracks = grafanadb.query(query)\n",
    "\n",
    "# Execute consumption queries\n",
    "stddev_consumption = grafanadb.query(stdddev_consumption_query)\n",
    "mean_consumption = grafanadb.query(mean_consumption_query)\n",
    "min_consumption = grafanadb.query(min_consumption_query)\n",
    "max_consumption = grafanadb.query(max_consumption_query)\n",
    "\n",
    "# Execute speed queries\n",
    "stddev_speed = grafanadb.query(stdddev_speed_query)\n",
    "mean_speed = grafanadb.query(mean_speed_query)\n",
    "min_speed = grafanadb.query(min_speed_query)\n",
    "max_speed = grafanadb.query(max_speed_query)\n",
    "\n",
    "# Execute fuel consumed queries\n",
    "stddev_fuel_consumed = grafanadb.query(stdddev_fuel_consumed_query)\n",
    "mean_fuel_consumed = grafanadb.query(mean_fuel_consumed_query)\n",
    "min_fuel_consumed = grafanadb.query(min_fuel_consumed_query)\n",
    "max_fuel_consumed = grafanadb.query(max_fuel_consumed_query)\n",
    "\n",
    "# Execute length queries\n",
    "stddev_length = grafanadb.query(stdddev_length_query)\n",
    "mean_length = grafanadb.query(mean_length_query)\n",
    "min_length = grafanadb.query(min_length_query)\n",
    "max_length = grafanadb.query(max_length_query)"
   ]
  },
  {
   "cell_type": "code",
   "execution_count": 33,
   "metadata": {},
   "outputs": [
    {
     "output_type": "stream",
     "name": "stdout",
     "text": [
      "consumption_100_std: 1.5725679635551524\nconsumption_100_mean: 6.581999999999999\nconsumption_100_min: 4.65\nconsumption_100_max: 8.51\n\naverage_speed_stddev: 5.8221602520026865\naverage_speed_mean: 46.58\naverage_speed_min: 37.78\naverage_speed_max: 53.33\n\nfuel_consumed_stddev: 0.6951474663695466\nfuel_consumed_mean: 1.1960000000000002\nfuel_consumed_min: 0.17\nfuel_consumed_max: 2.0\n\nlength_stddev: 8.98299878657569\nlength_mean: 18.34294036000009\nlength_min: 2.382502264852782\nlength_max: 23.495476139074285\n"
     ]
    }
   ],
   "source": [
    "# Print all tracks query results\n",
    "# print(tracks['tracks'])\n",
    "\n",
    "# Print consumption queries results\n",
    "print(\"consumption_100_std:\", get_query_result_value(stddev_consumption, 'stddev'))\n",
    "print(\"consumption_100_mean:\", get_query_result_value(mean_consumption, 'mean'))\n",
    "print(\"consumption_100_min:\", get_query_result_value(min_consumption, 'min'))\n",
    "print(\"consumption_100_max:\", get_query_result_value(max_consumption, 'max'))\n",
    "\n",
    "print()\n",
    "\n",
    "# Print speed queries results\n",
    "print(\"average_speed_stddev:\", get_query_result_value(stddev_speed, 'stddev'))\n",
    "print(\"average_speed_mean:\", get_query_result_value(mean_speed, 'mean'))\n",
    "print(\"average_speed_min:\", get_query_result_value(min_speed, 'min'))\n",
    "print(\"average_speed_max:\", get_query_result_value(max_speed, 'max'))\n",
    "\n",
    "print()\n",
    "\n",
    "# Print fuel consumed queries results\n",
    "print(\"fuel_consumed_stddev:\", get_query_result_value(stddev_fuel_consumed, 'stddev'))\n",
    "print(\"fuel_consumed_mean:\", get_query_result_value(mean_fuel_consumed, 'mean'))\n",
    "print(\"fuel_consumed_min:\", get_query_result_value(min_fuel_consumed, 'min'))\n",
    "print(\"fuel_consumed_max:\", get_query_result_value(max_fuel_consumed, 'max'))\n",
    "\n",
    "print()\n",
    "\n",
    "# Print length queries results\n",
    "print(\"length_stddev:\", get_query_result_value(stddev_length, 'stddev'))\n",
    "print(\"length_mean:\", get_query_result_value(mean_length, 'mean'))\n",
    "print(\"length_min:\", get_query_result_value(min_length, 'min'))\n",
    "print(\"length_max:\", get_query_result_value(max_length, 'max'))"
   ]
  },
  {
   "source": [
    "## Track from Phase 2"
   ],
   "cell_type": "markdown",
   "metadata": {}
  },
  {
   "cell_type": "code",
   "execution_count": 43,
   "metadata": {},
   "outputs": [
    {
     "output_type": "stream",
     "name": "stdout",
     "text": [
      "length: 23.41747359287662\nconsumption: 8.53\nfuel_consumed: 2.0\nspeed 49.08\n"
     ]
    }
   ],
   "source": [
    "track_2_id = \"601ac3a2886b71633cf3719c\"\n",
    "\n",
    "track_2_query = \"SELECT \\\"length\\\", \\\"consumption\\\", \\\"fuelConsumed\\\", \\\"speed\\\" FROM \\\"tracks\\\" WHERE \\\"id\\\"='{}'\".format(track_2_id)\n",
    "\n",
    "track_2 = grafanadb.query(track_2_query)\n",
    "\n",
    "print(\"length:\", get_query_result_value(track_2, 'length'))\n",
    "print(\"consumption:\", get_query_result_value(track_2, 'consumption'))\n",
    "print(\"fuel_consumed:\", get_query_result_value(track_2, 'fuelConsumed'))\n",
    "print(\"speed\", get_query_result_value(track_2, 'speed'))"
   ]
  },
  {
   "cell_type": "code",
   "execution_count": null,
   "metadata": {},
   "outputs": [],
   "source": []
  }
 ],
 "metadata": {
  "kernelspec": {
   "name": "python3",
   "display_name": "Python 3.8.5 64-bit ('base': conda)",
   "metadata": {
    "interpreter": {
     "hash": "4e4b1c0eba25b43fb0828087952fe1bfe39b80460d2a5f528a72e68cadaca174"
    }
   }
  },
  "language_info": {
   "codemirror_mode": {
    "name": "ipython",
    "version": 3
   },
   "file_extension": ".py",
   "mimetype": "text/x-python",
   "name": "python",
   "nbconvert_exporter": "python",
   "pygments_lexer": "ipython3",
   "version": "3.8.5-final"
  }
 },
 "nbformat": 4,
 "nbformat_minor": 4
}