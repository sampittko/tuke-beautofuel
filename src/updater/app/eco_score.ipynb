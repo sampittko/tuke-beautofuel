{
 "cells": [
  {
   "cell_type": "markdown",
   "metadata": {},
   "source": [
    "# Eco Score Pipeline for beautofuel"
   ]
  },
  {
   "source": [
    "%load_ext autoreload\n",
    "%autoreload 2\n",
    "\n",
    "from influxdb import DataFrameClient\n",
    "\n",
    "from lib.utils.constants import INFLUXDB_HOST, INFLUXDB_PORT, INFLUXDB_USER, INFLUXDB_PASSWORD, INFLUXDB_DB"
   ],
   "cell_type": "code",
   "metadata": {},
   "execution_count": null,
   "outputs": []
  },
  {
   "source": [
    "## Pipeline configuration"
   ],
   "cell_type": "markdown",
   "metadata": {}
  },
  {
   "cell_type": "code",
   "execution_count": null,
   "metadata": {},
   "outputs": [],
   "source": [
    "# Database client\n",
    "grafanadb = DataFrameClient(\n",
    "    host=INFLUXDB_HOST,\n",
    "    port=INFLUXDB_PORT,\n",
    "    database=INFLUXDB_DB,\n",
    "    username=INFLUXDB_USER,\n",
    "    password=INFLUXDB_PASSWORD\n",
    ")\n",
    "\n",
    "user = \"zlatka\""
   ]
  },
  {
   "source": [
    "## Helper functions"
   ],
   "cell_type": "markdown",
   "metadata": {}
  },
  {
   "cell_type": "code",
   "execution_count": null,
   "metadata": {},
   "outputs": [],
   "source": [
    "def get_query_result_value(result, field):\n",
    "    return result['tracks'][field][0]\n",
    "\n",
    "def get_query_end(phase):\n",
    "    return \"FROM \\\"tracks\\\" WHERE (\\\"phase\\\"='{}' AND \\\"user\\\"='{}')\".format(phase, user)"
   ]
  },
  {
   "source": [
    "## Setup Queries"
   ],
   "cell_type": "markdown",
   "metadata": {}
  },
  {
   "cell_type": "code",
   "execution_count": null,
   "metadata": {},
   "outputs": [],
   "source": [
    "# Consumption queries\n",
    "stdddev_consumption_query = \"SELECT stddev(\\\"consumption\\\") {};\".format(get_query_end(1))\n",
    "mean_consumption_query = \"SELECT mean(\\\"consumption\\\") {};\".format(get_query_end(1))\n",
    "min_consumption_query = \"SELECT min(\\\"consumption\\\") {};\".format(get_query_end(1))\n",
    "max_consumption_query = \"SELECT max(\\\"consumption\\\") {};\".format(get_query_end(1))"
   ]
  },
  {
   "source": [
    "## Execute Queries"
   ],
   "cell_type": "markdown",
   "metadata": {}
  },
  {
   "cell_type": "code",
   "execution_count": null,
   "metadata": {},
   "outputs": [],
   "source": [
    "# Execute consumption queries\n",
    "stddev_consumption = get_query_result_value(grafanadb.query(stdddev_consumption_query), 'stddev')\n",
    "mean_consumption = get_query_result_value(grafanadb.query(mean_consumption_query), 'mean')\n",
    "min_consumption = get_query_result_value(grafanadb.query(min_consumption_query), 'min')\n",
    "max_consumption = get_query_result_value(grafanadb.query(max_consumption_query), 'max')"
   ]
  },
  {
   "cell_type": "code",
   "execution_count": null,
   "metadata": {},
   "outputs": [],
   "source": [
    "# Print consumption queries results\n",
    "print(\"consumption_100_std:\", stddev_consumption)\n",
    "print(\"consumption_100_mean:\", mean_consumption)\n",
    "print(\"consumption_100_min:\", min_consumption)\n",
    "print(\"consumption_100_max:\", max_consumption)"
   ]
  },
  {
   "source": [
    "## Eco-score Calculation"
   ],
   "cell_type": "markdown",
   "metadata": {}
  },
  {
   "cell_type": "code",
   "execution_count": null,
   "metadata": {},
   "outputs": [],
   "source": [
    "tracks_2_query = \"SELECT \\\"consumption\\\" {};\".format(get_query_end(2))\n",
    "\n",
    "tracks_2 = grafanadb.query(tracks_2_query)\n",
    "\n",
    "for _, track_row in tracks_2['tracks'].iterrows():\n",
    "    track_2_consumption = track_row['consumption']\n",
    "\n",
    "    part_50 = None\n",
    "    part_30 = None\n",
    "    part_20 = None\n",
    "    part_10 = None\n",
    "\n",
    "    lower_consumption_limit = mean_consumption - stddev_consumption\n",
    "    upper_consumption_limit = mean_consumption + stddev_consumption\n",
    "\n",
    "    if track_2_consumption >= upper_consumption_limit:\n",
    "        part_50 = 0\n",
    "    elif track_2_consumption <= lower_consumption_limit:\n",
    "        part_50 = 100\n",
    "    else:\n",
    "        track_2_consumption = track_2_consumption - lower_consumption_limit\n",
    "        upper_consumption_limit = upper_consumption_limit - lower_consumption_limit\n",
    "        part_50 = int((track_2_consumption / upper_consumption_limit) * 100)\n",
    "\n",
    "    print(\"50%:\", part_50)\n",
    "\n",
    "    if track_2_consumption < min_consumption:\n",
    "        part_30 = 100\n",
    "    else:\n",
    "        part_30 = 0\n",
    "\n",
    "    print(\"30%:\", part_30)\n",
    "\n",
    "    if track_2_consumption < mean_consumption:\n",
    "        part_20 = 100\n",
    "    else:\n",
    "        part_20 = 0\n",
    "\n",
    "    print(\"20%:\", part_20)\n",
    "\n",
    "    if track_2_consumption < max_consumption:\n",
    "        part_10 = 100\n",
    "    else:\n",
    "        part_10 = 0\n",
    "\n",
    "    print(\"10%:\", part_10)\n",
    "\n",
    "    eco_score = part_50 * 0.5 + part_30 * 0.3 + part_20 * 0.2 + part_10 * 0.1\n",
    "\n",
    "    print(\"eco_score:\", int(eco_score))\n",
    "\n",
    "    print()"
   ]
  },
  {
   "cell_type": "code",
   "execution_count": null,
   "metadata": {},
   "outputs": [],
   "source": []
  }
 ],
 "metadata": {
  "kernelspec": {
   "name": "python3",
   "display_name": "Python 3.8.5 64-bit ('anaconda3': virtualenv)",
   "metadata": {
    "interpreter": {
     "hash": "4e4b1c0eba25b43fb0828087952fe1bfe39b80460d2a5f528a72e68cadaca174"
    }
   }
  },
  "language_info": {
   "codemirror_mode": {
    "name": "ipython",
    "version": 3
   },
   "file_extension": ".py",
   "mimetype": "text/x-python",
   "name": "python",
   "nbconvert_exporter": "python",
   "pygments_lexer": "ipython3",
   "version": "3.8.5-final"
  }
 },
 "nbformat": 4,
 "nbformat_minor": 4
}