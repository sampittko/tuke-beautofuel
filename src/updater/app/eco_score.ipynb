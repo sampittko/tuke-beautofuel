{
 "cells": [
  {
   "cell_type": "markdown",
   "metadata": {},
   "source": [
    "# Eco Score Pipeline for beautofuel"
   ]
  },
  {
   "source": [
    "%load_ext autoreload\n",
    "%autoreload 2\n",
    "\n",
    "from influxdb import DataFrameClient\n",
    "\n",
    "from lib.utils.constants import INFLUXDB_HOST, INFLUXDB_PORT, INFLUXDB_USER, INFLUXDB_PASSWORD, INFLUXDB_DB"
   ],
   "cell_type": "code",
   "metadata": {},
   "execution_count": 1,
   "outputs": []
  },
  {
   "source": [
    "## Pipeline configuration"
   ],
   "cell_type": "markdown",
   "metadata": {}
  },
  {
   "cell_type": "code",
   "execution_count": 9,
   "metadata": {},
   "outputs": [],
   "source": [
    "# Database client\n",
    "grafanadb = DataFrameClient(\n",
    "    host=INFLUXDB_HOST,\n",
    "    port=INFLUXDB_PORT,\n",
    "    database=INFLUXDB_DB,\n",
    "    username=INFLUXDB_USER,\n",
    "    password=INFLUXDB_PASSWORD\n",
    ")\n",
    "\n",
    "user = \"samko\""
   ]
  },
  {
   "source": [
    "## Helper functions"
   ],
   "cell_type": "markdown",
   "metadata": {}
  },
  {
   "cell_type": "code",
   "execution_count": 32,
   "metadata": {},
   "outputs": [],
   "source": [
    "def get_query_result_value(result, function):\n",
    "    return result['tracks'][function][0]"
   ]
  },
  {
   "source": [
    "## Setup Queries"
   ],
   "cell_type": "markdown",
   "metadata": {}
  },
  {
   "cell_type": "code",
   "execution_count": 37,
   "metadata": {},
   "outputs": [],
   "source": [
    "query_end = \"FROM \\\"tracks\\\" WHERE (\\\"phase\\\"='1' AND \\\"user\\\"='{}')\".format(user)\n",
    "\n",
    "# All tracks query\n",
    "query = \"SELECT \\\"duration\\\", \\\"length\\\", \\\"consumption\\\", \\\"fuelConsumed\\\", \\\"speed\\\" {};\".format(query_end)\n",
    "\n",
    "# Consumption queries\n",
    "stdddev_consumption_query = \"SELECT stddev(\\\"consumption\\\") {};\".format(query_end)\n",
    "mean_consumption_query = \"SELECT mean(\\\"consumption\\\") {};\".format(query_end)\n",
    "min_consumption_query = \"SELECT min(\\\"consumption\\\") {};\".format(query_end)\n",
    "max_consumption_query = \"SELECT max(\\\"consumption\\\") {};\".format(query_end)\n",
    "\n",
    "# Speed queries\n",
    "stdddev_speed_query = \"SELECT stddev(\\\"speed\\\") {};\".format(query_end)\n",
    "mean_speed_query = \"SELECT mean(\\\"speed\\\") {};\".format(query_end)\n",
    "min_speed_query = \"SELECT min(\\\"speed\\\") {};\".format(query_end)\n",
    "max_speed_query = \"SELECT max(\\\"speed\\\") {};\".format(query_end)\n",
    "\n",
    "# Fuel consumed queries\n",
    "stdddev_fuel_consumed_query = \"SELECT stddev(\\\"fuelConsumed\\\") {};\".format(query_end)\n",
    "mean_fuel_consumed_query = \"SELECT mean(\\\"fuelConsumed\\\") {};\".format(query_end)\n",
    "min_fuel_consumed_query = \"SELECT min(\\\"fuelConsumed\\\") {};\".format(query_end)\n",
    "max_fuel_consumed_query = \"SELECT max(\\\"fuelConsumed\\\") {};\".format(query_end)\n",
    "\n",
    "# Length queries\n",
    "stdddev_length_query = \"SELECT stddev(\\\"length\\\") {};\".format(query_end)\n",
    "mean_length_query = \"SELECT mean(\\\"length\\\") {};\".format(query_end)\n",
    "min_length_query = \"SELECT min(\\\"length\\\") {};\".format(query_end)\n",
    "max_length_query = \"SELECT max(\\\"length\\\") {};\".format(query_end)"
   ]
  },
  {
   "source": [
    "## Execute Queries"
   ],
   "cell_type": "markdown",
   "metadata": {}
  },
  {
   "cell_type": "code",
   "execution_count": 38,
   "metadata": {},
   "outputs": [],
   "source": [
    "# Execute all tracks query\n",
    "tracks = grafanadb.query(query)\n",
    "\n",
    "# Execute consumption queries\n",
    "stddev_consumption = grafanadb.query(stdddev_consumption_query)\n",
    "mean_consumption = grafanadb.query(mean_consumption_query)\n",
    "min_consumption = grafanadb.query(min_consumption_query)\n",
    "max_consumption = grafanadb.query(max_consumption_query)\n",
    "\n",
    "# Execute speed queries\n",
    "stddev_speed = grafanadb.query(stdddev_speed_query)\n",
    "mean_speed = grafanadb.query(mean_speed_query)\n",
    "min_speed = grafanadb.query(min_speed_query)\n",
    "max_speed = grafanadb.query(max_speed_query)\n",
    "\n",
    "# Execute fuel consumed queries\n",
    "stddev_fuel_consumed = grafanadb.query(stdddev_fuel_consumed_query)\n",
    "mean_fuel_consumed = grafanadb.query(mean_fuel_consumed_query)\n",
    "min_fuel_consumed = grafanadb.query(min_fuel_consumed_query)\n",
    "max_fuel_consumed = grafanadb.query(max_fuel_consumed_query)\n",
    "\n",
    "# Execute length queries\n",
    "stddev_length = grafanadb.query(stdddev_length_query)\n",
    "mean_length = grafanadb.query(mean_length_query)\n",
    "min_length = grafanadb.query(min_length_query)\n",
    "max_length = grafanadb.query(max_length_query)"
   ]
  },
  {
   "cell_type": "code",
   "execution_count": 35,
   "metadata": {},
   "outputs": [
    {
     "output_type": "stream",
     "name": "stdout",
     "text": [
      "                           duration     length  consumption  fuelConsumed  \\\n2020-11-29 17:22:46+00:00       187   1.386267         8.60          0.12   \n2020-11-29 17:22:46+00:00       228   1.608990         7.09          0.11   \n2020-12-23 17:03:14+00:00      1032  11.618875         6.81          0.79   \n2020-12-23 17:03:14+00:00       668   7.534388         5.99          0.45   \n2021-01-02 16:52:37+00:00       253   2.119477         6.94          0.15   \n2021-01-02 16:52:37+00:00       303   1.840543         8.26          0.15   \n2021-01-02 16:52:37+00:00       305   1.699643         8.89          0.15   \n2021-01-02 16:52:37+00:00       218   2.394659         6.20          0.15   \n2021-01-05 18:07:52+00:00       289   2.523027         6.52          0.16   \n2021-01-13 08:26:07+00:00       962  14.719849         7.20          1.06   \n2021-01-13 08:26:08+00:00      1469  17.809170         5.42          0.97   \n2021-01-13 15:55:43+00:00       366   3.093674         8.78          0.27   \n2021-01-13 15:55:43+00:00       248   2.306908         9.31          0.21   \n2021-01-16 11:44:33+00:00       581   8.701413         5.06          0.44   \n2021-01-18 16:11:29+00:00       343   2.171368         9.07          0.20   \n2021-01-18 16:11:36+00:00      1165  20.184309         8.53          1.72   \n2021-01-18 16:11:36+00:00       475   2.702089         8.92          0.24   \n2021-01-25 14:59:12+00:00       371   2.129827        11.22          0.24   \n2021-01-26 15:56:35+00:00       147   1.103101         7.04          0.08   \n2021-01-26 15:56:36+00:00       166   1.067790         5.92          0.06   \n2021-01-26 15:56:36+00:00       135   0.161769        25.17          0.04   \n2021-01-26 15:56:36+00:00       125   1.128175         8.17          0.09   \n2021-01-27 05:51:17+00:00      1497  20.322161         7.45          1.51   \n2021-01-28 17:23:11+00:00      1782  23.287060         7.42          1.73   \n2021-01-28 17:23:11+00:00      1460  20.094255         4.45          0.89   \n2021-01-28 17:23:11+00:00       538   3.933422         6.25          0.25   \n2021-01-28 17:23:11+00:00       494   1.329271        10.79          0.14   \n\n                           speed  \n2020-11-29 17:22:46+00:00  26.10  \n2020-11-29 17:22:46+00:00  25.02  \n2020-12-23 17:03:14+00:00  40.49  \n2020-12-23 17:03:14+00:00  39.85  \n2021-01-02 16:52:37+00:00  29.44  \n2021-01-02 16:52:37+00:00  21.90  \n2021-01-02 16:52:37+00:00  20.18  \n2021-01-02 16:52:37+00:00  38.72  \n2021-01-05 18:07:52+00:00  29.78  \n2021-01-13 08:26:07+00:00  56.50  \n2021-01-13 08:26:08+00:00  43.46  \n2021-01-13 15:55:43+00:00  29.85  \n2021-01-13 15:55:43+00:00  33.14  \n2021-01-16 11:44:33+00:00  51.46  \n2021-01-18 16:11:29+00:00  22.01  \n2021-01-18 16:11:36+00:00  60.31  \n2021-01-18 16:11:36+00:00  20.63  \n2021-01-25 14:59:12+00:00  22.90  \n2021-01-26 15:56:35+00:00  25.59  \n2021-01-26 15:56:36+00:00  18.68  \n2021-01-26 15:56:36+00:00   4.23  \n2021-01-26 15:56:36+00:00  31.03  \n2021-01-27 05:51:17+00:00  47.47  \n2021-01-28 17:23:11+00:00  47.53  \n2021-01-28 17:23:11+00:00  49.02  \n2021-01-28 17:23:11+00:00  25.63  \n2021-01-28 17:23:11+00:00  10.15  \n3.7623065680843597\n8.202592592592595\n4.45\n25.17\n"
     ]
    }
   ],
   "source": [
    "# Print all tracks query results\n",
    "# print(tracks['tracks'])\n",
    "\n",
    "# Print consumption queries results\n",
    "print(get_query_result_value(stddev_consumption, 'stddev'))\n",
    "print(get_query_result_value(mean_consumption, 'mean'))\n",
    "print(get_query_result_value(min_consumption, 'min'))\n",
    "print(get_query_result_value(max_consumption, 'max'))"
   ]
  }
 ],
 "metadata": {
  "kernelspec": {
   "name": "python3",
   "display_name": "Python 3.8.5 64-bit ('base': conda)",
   "metadata": {
    "interpreter": {
     "hash": "4e4b1c0eba25b43fb0828087952fe1bfe39b80460d2a5f528a72e68cadaca174"
    }
   }
  },
  "language_info": {
   "codemirror_mode": {
    "name": "ipython",
    "version": 3
   },
   "file_extension": ".py",
   "mimetype": "text/x-python",
   "name": "python",
   "nbconvert_exporter": "python",
   "pygments_lexer": "ipython3",
   "version": "3.8.5-final"
  }
 },
 "nbformat": 4,
 "nbformat_minor": 4
}