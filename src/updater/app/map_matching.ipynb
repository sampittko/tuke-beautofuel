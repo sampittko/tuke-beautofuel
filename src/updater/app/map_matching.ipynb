{
 "cells": [
  {
   "cell_type": "markdown",
   "metadata": {},
   "source": [
    "# Map Matching Pipeline for beautofuel\n",
    "## Beware that:\n",
    "### - code is not functional\n",
    "### - this is experimental only"
   ]
  },
  {
   "source": [
    "%load_ext autoreload\n",
    "%autoreload 2\n",
    "\n",
    "import pandas as pd\n",
    "import geopandas as gpd\n",
    "from datetime import datetime, timedelta\n",
    "import geopy.distance\n",
    "from influxdb import DataFrameClient\n",
    "\n",
    "from lib.packages.eda_quality import manipulation as manipulate\n",
    "from lib.packages.eda_quality import inspection as inspect\n",
    "from lib.utils.constants import INFLUXDB_HOST, INFLUXDB_PORT, INFLUXDB_USER, INFLUXDB_PASSWORD, INFLUXDB_DB"
   ],
   "cell_type": "code",
   "metadata": {},
   "execution_count": null,
   "outputs": []
  },
  {
   "source": [],
   "cell_type": "markdown",
   "metadata": {}
  },
  {
   "source": [
    "## Data interpolation"
   ],
   "cell_type": "markdown",
   "metadata": {}
  },
  {
   "cell_type": "code",
   "execution_count": null,
   "metadata": {},
   "outputs": [],
   "source": [
    "interpolated_tracks_df=None\n",
    "\n",
    "# Interpolate every track\n",
    "# TODO Interpolate only missing GPS coordinates (track cuts)\n",
    "for track_id in track_ids:\n",
    "    track_df = inspect.get_single_track(tracks_df, track_id)\n",
    "\n",
    "    track_df = manipulate.interpolate(track_df)\n",
    "\n",
    "    interpolated_tracks_df = pd.concat([interpolated_tracks_df, track_df])\n",
    "\n",
    "tracks_df = interpolated_tracks_df\n",
    "\n",
    "tracks_df.plot()"
   ]
  },
  {
   "source": [
    "## Tracks map matching"
   ],
   "cell_type": "markdown",
   "metadata": {}
  },
  {
   "cell_type": "code",
   "execution_count": 26,
   "metadata": {},
   "outputs": [
    {
     "output_type": "stream",
     "name": "stdout",
     "text": [
      "Total number of tracks to analyze is 17\n\nAnalysing track 1 with ID 6005b338886b71633ce138ed\nTrack centroid is located at (49.084432660036235, 20.18333248467393)\nGraph from point distance is 9627\n"
     ]
    },
    {
     "output_type": "error",
     "ename": "KeyboardInterrupt",
     "evalue": "",
     "traceback": [
      "\u001b[0;31m---------------------------------------------------------------------------\u001b[0m",
      "\u001b[0;31mKeyboardInterrupt\u001b[0m                         Traceback (most recent call last)",
      "\u001b[0;32m<timed exec>\u001b[0m in \u001b[0;36m<module>\u001b[0;34m\u001b[0m\n",
      "\u001b[0;32m~/opt/anaconda3/lib/python3.8/site-packages/leuvenmapmatching/matcher/base.py\u001b[0m in \u001b[0;36mmatch\u001b[0;34m(self, path, unique, tqdm)\u001b[0m\n\u001b[1;32m    435\u001b[0m                 \u001b[0mlogger\u001b[0m\u001b[0;34m.\u001b[0m\u001b[0minfo\u001b[0m\u001b[0;34m(\u001b[0m\u001b[0;34mf'Stopped early at observation {early_stop_idx}'\u001b[0m\u001b[0;34m)\u001b[0m\u001b[0;34m\u001b[0m\u001b[0;34m\u001b[0m\u001b[0m\n\u001b[1;32m    436\u001b[0m                 \u001b[0;32mbreak\u001b[0m\u001b[0;34m\u001b[0m\u001b[0;34m\u001b[0m\u001b[0m\n\u001b[0;32m--> 437\u001b[0;31m             \u001b[0mself\u001b[0m\u001b[0;34m.\u001b[0m\u001b[0m_match_states\u001b[0m\u001b[0;34m(\u001b[0m\u001b[0mobs_idx\u001b[0m\u001b[0;34m)\u001b[0m\u001b[0;34m\u001b[0m\u001b[0;34m\u001b[0m\u001b[0m\n\u001b[0m\u001b[1;32m    438\u001b[0m             \u001b[0;32mif\u001b[0m \u001b[0mself\u001b[0m\u001b[0;34m.\u001b[0m\u001b[0mnon_emitting_states\u001b[0m\u001b[0;34m:\u001b[0m\u001b[0;34m\u001b[0m\u001b[0;34m\u001b[0m\u001b[0m\n\u001b[1;32m    439\u001b[0m                 \u001b[0;31m# Fill in non-emitting states between previous and current observation\u001b[0m\u001b[0;34m\u001b[0m\u001b[0;34m\u001b[0m\u001b[0;34m\u001b[0m\u001b[0m\n",
      "\u001b[0;32m~/opt/anaconda3/lib/python3.8/site-packages/leuvenmapmatching/matcher/base.py\u001b[0m in \u001b[0;36m_match_states\u001b[0;34m(self, obs_idx)\u001b[0m\n\u001b[1;32m    690\u001b[0m                             \u001b[0medge_m\u001b[0m \u001b[0;34m=\u001b[0m \u001b[0mSegment\u001b[0m\u001b[0;34m(\u001b[0m\u001b[0mnbr_label1\u001b[0m\u001b[0;34m,\u001b[0m \u001b[0mnbr_loc1\u001b[0m\u001b[0;34m,\u001b[0m \u001b[0mnbr_label2\u001b[0m\u001b[0;34m,\u001b[0m \u001b[0mnbr_loc2\u001b[0m\u001b[0;34m)\u001b[0m\u001b[0;34m\u001b[0m\u001b[0;34m\u001b[0m\u001b[0m\n\u001b[1;32m    691\u001b[0m                             \u001b[0medge_o\u001b[0m \u001b[0;34m=\u001b[0m \u001b[0mSegment\u001b[0m\u001b[0;34m(\u001b[0m\u001b[0;34mf\"O{obs_idx}\"\u001b[0m\u001b[0;34m,\u001b[0m \u001b[0mself\u001b[0m\u001b[0;34m.\u001b[0m\u001b[0mpath\u001b[0m\u001b[0;34m[\u001b[0m\u001b[0mobs_idx\u001b[0m\u001b[0;34m]\u001b[0m\u001b[0;34m)\u001b[0m\u001b[0;34m\u001b[0m\u001b[0;34m\u001b[0m\u001b[0m\n\u001b[0;32m--> 692\u001b[0;31m                             \u001b[0mm_next\u001b[0m \u001b[0;34m=\u001b[0m \u001b[0mm\u001b[0m\u001b[0;34m.\u001b[0m\u001b[0mnext\u001b[0m\u001b[0;34m(\u001b[0m\u001b[0medge_m\u001b[0m\u001b[0;34m,\u001b[0m \u001b[0medge_o\u001b[0m\u001b[0;34m,\u001b[0m \u001b[0mobs\u001b[0m\u001b[0;34m=\u001b[0m\u001b[0mobs_idx\u001b[0m\u001b[0;34m)\u001b[0m\u001b[0;34m\u001b[0m\u001b[0;34m\u001b[0m\u001b[0m\n\u001b[0m\u001b[1;32m    693\u001b[0m                             \u001b[0;32mif\u001b[0m \u001b[0mm_next\u001b[0m \u001b[0;32mis\u001b[0m \u001b[0;32mnot\u001b[0m \u001b[0;32mNone\u001b[0m\u001b[0;34m:\u001b[0m\u001b[0;34m\u001b[0m\u001b[0;34m\u001b[0m\u001b[0m\n\u001b[1;32m    694\u001b[0m                                 \u001b[0mself\u001b[0m\u001b[0;34m.\u001b[0m\u001b[0m_insert\u001b[0m\u001b[0;34m(\u001b[0m\u001b[0mm_next\u001b[0m\u001b[0;34m)\u001b[0m\u001b[0;34m\u001b[0m\u001b[0;34m\u001b[0m\u001b[0m\n",
      "\u001b[0;32m~/opt/anaconda3/lib/python3.8/site-packages/leuvenmapmatching/matcher/base.py\u001b[0m in \u001b[0;36mnext\u001b[0;34m(self, edge_m, edge_o, obs, obs_ne)\u001b[0m\n\u001b[1;32m     74\u001b[0m         \u001b[0;32melif\u001b[0m \u001b[0;32mnot\u001b[0m \u001b[0medge_m\u001b[0m\u001b[0;34m.\u001b[0m\u001b[0mis_point\u001b[0m\u001b[0;34m(\u001b[0m\u001b[0;34m)\u001b[0m \u001b[0;32mand\u001b[0m \u001b[0medge_o\u001b[0m\u001b[0;34m.\u001b[0m\u001b[0mis_point\u001b[0m\u001b[0;34m(\u001b[0m\u001b[0;34m)\u001b[0m\u001b[0;34m:\u001b[0m\u001b[0;34m\u001b[0m\u001b[0;34m\u001b[0m\u001b[0m\n\u001b[1;32m     75\u001b[0m             \u001b[0;31m# edge to node\u001b[0m\u001b[0;34m\u001b[0m\u001b[0;34m\u001b[0m\u001b[0;34m\u001b[0m\u001b[0m\n\u001b[0;32m---> 76\u001b[0;31m             \u001b[0mdist\u001b[0m\u001b[0;34m,\u001b[0m \u001b[0mproj_m\u001b[0m\u001b[0;34m,\u001b[0m \u001b[0mt_m\u001b[0m \u001b[0;34m=\u001b[0m \u001b[0mself\u001b[0m\u001b[0;34m.\u001b[0m\u001b[0mmatcher\u001b[0m\u001b[0;34m.\u001b[0m\u001b[0mmap\u001b[0m\u001b[0;34m.\u001b[0m\u001b[0mdistance_point_to_segment\u001b[0m\u001b[0;34m(\u001b[0m\u001b[0medge_o\u001b[0m\u001b[0;34m.\u001b[0m\u001b[0mp1\u001b[0m\u001b[0;34m,\u001b[0m \u001b[0medge_m\u001b[0m\u001b[0;34m.\u001b[0m\u001b[0mp1\u001b[0m\u001b[0;34m,\u001b[0m \u001b[0medge_m\u001b[0m\u001b[0;34m.\u001b[0m\u001b[0mp2\u001b[0m\u001b[0;34m)\u001b[0m\u001b[0;34m\u001b[0m\u001b[0;34m\u001b[0m\u001b[0m\n\u001b[0m\u001b[1;32m     77\u001b[0m             \u001b[0;32mif\u001b[0m \u001b[0;32mnot\u001b[0m \u001b[0mself\u001b[0m\u001b[0;34m.\u001b[0m\u001b[0mmatcher\u001b[0m\u001b[0;34m.\u001b[0m\u001b[0monly_edges\u001b[0m \u001b[0;32mand\u001b[0m \u001b[0;34m(\u001b[0m\u001b[0mapprox_equal\u001b[0m\u001b[0;34m(\u001b[0m\u001b[0mt_m\u001b[0m\u001b[0;34m,\u001b[0m \u001b[0;36m0.0\u001b[0m\u001b[0;34m)\u001b[0m \u001b[0;32mor\u001b[0m \u001b[0mapprox_equal\u001b[0m\u001b[0;34m(\u001b[0m\u001b[0mt_m\u001b[0m\u001b[0;34m,\u001b[0m \u001b[0;36m1.0\u001b[0m\u001b[0;34m)\u001b[0m\u001b[0;34m)\u001b[0m\u001b[0;34m:\u001b[0m\u001b[0;34m\u001b[0m\u001b[0;34m\u001b[0m\u001b[0m\n\u001b[1;32m     78\u001b[0m                 \u001b[0;32mif\u001b[0m \u001b[0m__debug__\u001b[0m \u001b[0;32mand\u001b[0m \u001b[0mlogger\u001b[0m\u001b[0;34m.\u001b[0m\u001b[0misEnabledFor\u001b[0m\u001b[0;34m(\u001b[0m\u001b[0mlogging\u001b[0m\u001b[0;34m.\u001b[0m\u001b[0mDEBUG\u001b[0m\u001b[0;34m)\u001b[0m\u001b[0;34m:\u001b[0m\u001b[0;34m\u001b[0m\u001b[0;34m\u001b[0m\u001b[0m\n",
      "\u001b[0;32m~/opt/anaconda3/lib/python3.8/site-packages/leuvenmapmatching/util/dist_latlon.py\u001b[0m in \u001b[0;36mdistance_point_to_segment\u001b[0;34m(p, s1, s2, delta, constrain)\u001b[0m\n\u001b[1;32m     58\u001b[0m     \u001b[0mlat3\u001b[0m\u001b[0;34m,\u001b[0m \u001b[0mlon3\u001b[0m \u001b[0;34m=\u001b[0m \u001b[0mradians\u001b[0m\u001b[0;34m(\u001b[0m\u001b[0mlat3\u001b[0m\u001b[0;34m)\u001b[0m\u001b[0;34m,\u001b[0m \u001b[0mradians\u001b[0m\u001b[0;34m(\u001b[0m\u001b[0mlon3\u001b[0m\u001b[0;34m)\u001b[0m\u001b[0;34m\u001b[0m\u001b[0;34m\u001b[0m\u001b[0m\n\u001b[1;32m     59\u001b[0m \u001b[0;34m\u001b[0m\u001b[0m\n\u001b[0;32m---> 60\u001b[0;31m     \u001b[0mdist_hs\u001b[0m \u001b[0;34m=\u001b[0m \u001b[0mdistance_haversine_radians\u001b[0m\u001b[0;34m(\u001b[0m\u001b[0mlat1\u001b[0m\u001b[0;34m,\u001b[0m \u001b[0mlon1\u001b[0m\u001b[0;34m,\u001b[0m \u001b[0mlat2\u001b[0m\u001b[0;34m,\u001b[0m \u001b[0mlon2\u001b[0m\u001b[0;34m)\u001b[0m\u001b[0;34m\u001b[0m\u001b[0;34m\u001b[0m\u001b[0m\n\u001b[0m\u001b[1;32m     61\u001b[0m     \u001b[0;32mif\u001b[0m \u001b[0mdist_hs\u001b[0m \u001b[0;34m==\u001b[0m \u001b[0;36m0\u001b[0m\u001b[0;34m:\u001b[0m\u001b[0;34m\u001b[0m\u001b[0;34m\u001b[0m\u001b[0m\n\u001b[1;32m     62\u001b[0m         \u001b[0mdist_ct\u001b[0m\u001b[0;34m,\u001b[0m \u001b[0mpi\u001b[0m\u001b[0;34m,\u001b[0m \u001b[0mti\u001b[0m \u001b[0;34m=\u001b[0m \u001b[0mdistance\u001b[0m\u001b[0;34m(\u001b[0m\u001b[0mp\u001b[0m\u001b[0;34m,\u001b[0m \u001b[0ms1\u001b[0m\u001b[0;34m)\u001b[0m\u001b[0;34m,\u001b[0m \u001b[0ms1\u001b[0m\u001b[0;34m,\u001b[0m \u001b[0;36m0\u001b[0m\u001b[0;34m\u001b[0m\u001b[0;34m\u001b[0m\u001b[0m\n",
      "\u001b[0;32m~/opt/anaconda3/lib/python3.8/site-packages/leuvenmapmatching/util/dist_latlon.py\u001b[0m in \u001b[0;36mdistance_haversine_radians\u001b[0;34m(lat1, lon1, lat2, lon2, radius)\u001b[0m\n\u001b[1;32m    195\u001b[0m     \u001b[0mlat\u001b[0m \u001b[0;34m=\u001b[0m \u001b[0mlat2\u001b[0m \u001b[0;34m-\u001b[0m \u001b[0mlat1\u001b[0m\u001b[0;34m\u001b[0m\u001b[0;34m\u001b[0m\u001b[0m\n\u001b[1;32m    196\u001b[0m     \u001b[0mlon\u001b[0m \u001b[0;34m=\u001b[0m \u001b[0mlon2\u001b[0m \u001b[0;34m-\u001b[0m \u001b[0mlon1\u001b[0m\u001b[0;34m\u001b[0m\u001b[0;34m\u001b[0m\u001b[0m\n\u001b[0;32m--> 197\u001b[0;31m     \u001b[0ma\u001b[0m \u001b[0;34m=\u001b[0m \u001b[0msin\u001b[0m\u001b[0;34m(\u001b[0m\u001b[0mlat\u001b[0m \u001b[0;34m/\u001b[0m \u001b[0;36m2\u001b[0m\u001b[0;34m)\u001b[0m \u001b[0;34m**\u001b[0m \u001b[0;36m2\u001b[0m \u001b[0;34m+\u001b[0m \u001b[0mcos\u001b[0m\u001b[0;34m(\u001b[0m\u001b[0mlat1\u001b[0m\u001b[0;34m)\u001b[0m \u001b[0;34m*\u001b[0m \u001b[0mcos\u001b[0m\u001b[0;34m(\u001b[0m\u001b[0mlat2\u001b[0m\u001b[0;34m)\u001b[0m \u001b[0;34m*\u001b[0m \u001b[0msin\u001b[0m\u001b[0;34m(\u001b[0m\u001b[0mlon\u001b[0m \u001b[0;34m/\u001b[0m \u001b[0;36m2\u001b[0m\u001b[0;34m)\u001b[0m \u001b[0;34m**\u001b[0m \u001b[0;36m2\u001b[0m\u001b[0;34m\u001b[0m\u001b[0;34m\u001b[0m\u001b[0m\n\u001b[0m\u001b[1;32m    198\u001b[0m     \u001b[0;31m# dist = 2 * radius * asin(sqrt(a))\u001b[0m\u001b[0;34m\u001b[0m\u001b[0;34m\u001b[0m\u001b[0;34m\u001b[0m\u001b[0m\n\u001b[1;32m    199\u001b[0m     \u001b[0mdist\u001b[0m \u001b[0;34m=\u001b[0m \u001b[0;36m2\u001b[0m \u001b[0;34m*\u001b[0m \u001b[0mradius\u001b[0m \u001b[0;34m*\u001b[0m \u001b[0matan2\u001b[0m\u001b[0;34m(\u001b[0m\u001b[0msqrt\u001b[0m\u001b[0;34m(\u001b[0m\u001b[0ma\u001b[0m\u001b[0;34m)\u001b[0m\u001b[0;34m,\u001b[0m \u001b[0msqrt\u001b[0m\u001b[0;34m(\u001b[0m\u001b[0;36m1\u001b[0m \u001b[0;34m-\u001b[0m \u001b[0ma\u001b[0m\u001b[0;34m)\u001b[0m\u001b[0;34m)\u001b[0m\u001b[0;34m\u001b[0m\u001b[0;34m\u001b[0m\u001b[0m\n",
      "\u001b[0;31mKeyboardInterrupt\u001b[0m: "
     ]
    }
   ],
   "source": [
    "%%time\n",
    "import folium\n",
    "import numpy as np\n",
    "import osmnx as ox\n",
    "\n",
    "from leuvenmapmatching.matcher.distance import DistanceMatcher\n",
    "from leuvenmapmatching.map.inmem import InMemMap\n",
    "\n",
    "map_matched_track_coords_dict = {}\n",
    "\n",
    "tracks_count = len(track_ids)\n",
    "\n",
    "print(\"Total number of tracks to analyze is {}\\n\".format(tracks_count))\n",
    "\n",
    "for i in range(tracks_count):\n",
    "    print(\"Analysing track {} with ID {}\".format(i + 1, track_ids[i]))\n",
    "\n",
    "    track_df = inspect.get_single_track(tracks_df, track_ids[i])\n",
    "\n",
    "    # Calculate centroid coordinate\n",
    "    # Get the latitude and longitude coordinates from the track and join them in an array\n",
    "    lngs = list(track_df['geometry'].apply(lambda coord: coord.x))\n",
    "    lats = list(track_df['geometry'].apply(lambda coord: coord.y))\n",
    "\n",
    "    centroid_lng = sum(lngs)/len(lngs)\n",
    "    centroid_lat = sum(lats)/len(lats)\n",
    "\n",
    "    centroid = (centroid_lat, centroid_lng)\n",
    "\n",
    "    print(\"Track centroid is located at {}\".format(centroid))\n",
    "\n",
    "    # Calculate interval times\n",
    "    dt = np.zeros(len(track_df['time']))\n",
    "\n",
    "    for j in range(1, len(track_df['time'])):\n",
    "        dt[j] = get_interval_time(track_df['time'].iloc[j], track_df['time'].iloc[j-1])\n",
    "    \n",
    "    speed = np.array(track_df['GPS Speed.value'])\n",
    "\n",
    "    distance_total = np.sum(speed / 3.6 * dt) / 1000\n",
    "\n",
    "    dist = int(distance_total / 2 * 1000)\n",
    "\n",
    "    print(\"Graph from point distance is {}\".format(dist))\n",
    "\n",
    "    graph = ox.graph_from_point(centroid, dist=dist, network_type='drive')\n",
    "\n",
    "    # ox.plot_graph(graph)\n",
    "\n",
    "    # OSM graph transformation for compatibility with LMM\n",
    "    # Leuven Map Matching is using a different internal graph structure for the street data. \n",
    "    # Therefore, the OSMnx graph needs to be transformed to the InMemMap\n",
    "    streetmap = InMemMap(\"enviroCar\", use_latlon=True, use_rtree=True, index_edges=True)\n",
    "\n",
    "    # add nodes\n",
    "    nodes = list(graph.nodes)\n",
    "    for node in nodes:\n",
    "        lng = graph.nodes[node]['x']\n",
    "        lat = graph.nodes[node]['y']\n",
    "        streetmap.add_node(node, (lat, lng))\n",
    "\n",
    "    # add edges\n",
    "    edges = list(graph.edges)\n",
    "    for edge in edges:\n",
    "        node_a, node_b = edge[0], edge[1]\n",
    "        streetmap.add_edge(node_a, node_b)\n",
    "        \n",
    "        # exclude bi-directional edges when street is oneway\n",
    "        if not graph.edges[edge]['oneway']:\n",
    "            streetmap.add_edge(node_b, node_a)\n",
    "        \n",
    "    streetmap.purge()\n",
    "\n",
    "    # Map matching\n",
    "    track_coords = [c for c in zip(lats, lngs)]\n",
    "\n",
    "    # TODO Calculate programmatically\n",
    "    max_dist = 300\n",
    "\n",
    "    # Configure the mapmatcher. For increasing the performance it is important \n",
    "    # that max_dist (in meters) is not set too high\n",
    "    matcher = DistanceMatcher(streetmap,\n",
    "                            max_dist=max_dist, \n",
    "                            max_dist_init=50,\n",
    "                            min_prob_norm=0.001,\n",
    "                            non_emitting_length_factor=0.75,\n",
    "                            obs_noise=50,\n",
    "                            obs_noise_ne=75,\n",
    "                            dist_noise=50,\n",
    "                            non_emitting_edgeid=False)\n",
    "\n",
    "    # Perform the mapmatching \n",
    "    try:\n",
    "        edge_ids, last_idx = matcher.match(track_coords)\n",
    "    except Exception:\n",
    "        print(\"Map matching cannot be performed for this track\\n\")\n",
    "        continue\n",
    "    if not matcher.lattice_best:\n",
    "        print(\"No matching track has been found\\n\")\n",
    "        continue\n",
    "\n",
    "    # get the coordinates of the \"best\" mapmatched route\n",
    "    coords = [m.edge_m.pi[:] for m in matcher.lattice_best]\n",
    "\n",
    "    map_matched_track_coords_dict[track_ids[i]] = coords\n",
    "\n",
    "    # Visualize matched map\n",
    "    # plot both raw and mapmatched track\n",
    "    # m = folium.Map(location=[lat, lng], zoom_start=13)\n",
    "    # folium.PolyLine(coords, color='blue').add_to(m)\n",
    "    # folium.PolyLine(track_coords, color='red').add_to(m)\n",
    "    # m\n",
    "\n",
    "    print()"
   ]
  },
  {
   "source": [
    "## Tracks similiarity search"
   ],
   "cell_type": "markdown",
   "metadata": {}
  },
  {
   "cell_type": "code",
   "execution_count": null,
   "metadata": {},
   "outputs": [],
   "source": [
    "print(\"There are {} tracks suitable for similarity search\".format(len(map_matched_track_coords_dict)))\n",
    "\n",
    "# for track_id in map_matched_track_coords_dict:\n",
    "#     map_matched_track_coords = map_matched_track_coords_dict[track_id]\n",
    "\n",
    "# print(map_matched_track_coords_dict['5fc3d8e605fa792e88632925'])\n",
    "# print(map_matched_track_coords_dict['5fc3d8e605fa792e886329e7'])\n",
    "\n",
    "# for coord in map_matched_track_coords_dict['5fc3d8e605fa792e88632925']:\n",
    "\n",
    "\n"
   ]
  },
  {
   "cell_type": "code",
   "execution_count": null,
   "metadata": {},
   "outputs": [],
   "source": []
  }
 ],
 "metadata": {
  "kernelspec": {
   "name": "python3",
   "display_name": "Python 3.8.5 64-bit ('anaconda3': virtualenv)",
   "metadata": {
    "interpreter": {
     "hash": "4e4b1c0eba25b43fb0828087952fe1bfe39b80460d2a5f528a72e68cadaca174"
    }
   }
  },
  "language_info": {
   "codemirror_mode": {
    "name": "ipython",
    "version": 3
   },
   "file_extension": ".py",
   "mimetype": "text/x-python",
   "name": "python",
   "nbconvert_exporter": "python",
   "pygments_lexer": "ipython3",
   "version": "3.8.5-final"
  }
 },
 "nbformat": 4,
 "nbformat_minor": 4
}