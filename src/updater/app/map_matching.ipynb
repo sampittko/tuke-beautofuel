{
 "cells": [
  {
   "cell_type": "markdown",
   "metadata": {},
   "source": [
    "# Map Matching Pipeline for beautofuel\n",
    "## Beware that:\n",
    "### - code is not functional\n",
    "### - this is experimental only"
   ]
  },
  {
   "source": [
    "%load_ext autoreload\n",
    "%autoreload 2\n",
    "\n",
    "import pandas as pd\n",
    "import geopandas as gpd\n",
    "from datetime import datetime, timedelta\n",
    "import geopy.distance\n",
    "from influxdb import DataFrameClient\n",
    "\n",
    "from lib.packages.eda_quality import manipulation as manipulate\n",
    "from lib.packages.eda_quality import inspection as inspect\n",
    "from lib.utils.constants import INFLUXDB_HOST, INFLUXDB_PORT, INFLUXDB_USER, INFLUXDB_PASSWORD, INFLUXDB_DB"
   ],
   "cell_type": "code",
   "metadata": {},
   "execution_count": null,
   "outputs": []
  },
  {
   "source": [],
   "cell_type": "markdown",
   "metadata": {}
  },
  {
   "source": [
    "## Data interpolation"
   ],
   "cell_type": "markdown",
   "metadata": {}
  },
  {
   "cell_type": "code",
   "execution_count": null,
   "metadata": {},
   "outputs": [],
   "source": [
    "interpolated_tracks_df=None\n",
    "\n",
    "# Interpolate every track\n",
    "# TODO Interpolate only missing GPS coordinates (track cuts)\n",
    "for track_id in track_ids:\n",
    "    track_df = inspect.get_single_track(tracks_df, track_id)\n",
    "\n",
    "    track_df = manipulate.interpolate(track_df)\n",
    "\n",
    "    interpolated_tracks_df = pd.concat([interpolated_tracks_df, track_df])\n",
    "\n",
    "tracks_df = interpolated_tracks_df\n",
    "\n",
    "tracks_df.plot()"
   ]
  },
  {
   "source": [
    "## Tracks map matching"
   ],
   "cell_type": "markdown",
   "metadata": {}
  },
  {
   "cell_type": "code",
   "execution_count": null,
   "metadata": {},
   "outputs": [],
   "source": [
    "%%time\n",
    "import folium\n",
    "import numpy as np\n",
    "import osmnx as ox\n",
    "\n",
    "from leuvenmapmatching.matcher.distance import DistanceMatcher\n",
    "from leuvenmapmatching.map.inmem import InMemMap\n",
    "\n",
    "map_matched_track_coords_dict = {}\n",
    "\n",
    "tracks_count = len(track_ids)\n",
    "\n",
    "print(\"Total number of tracks to analyze is {}\\n\".format(tracks_count))\n",
    "\n",
    "for i in range(tracks_count):\n",
    "    print(\"Analysing track {} with ID {}\".format(i + 1, track_ids[i]))\n",
    "\n",
    "    track_df = inspect.get_single_track(tracks_df, track_ids[i])\n",
    "\n",
    "    # Calculate centroid coordinate\n",
    "    # Get the latitude and longitude coordinates from the track and join them in an array\n",
    "    lngs = list(track_df['geometry'].apply(lambda coord: coord.x))\n",
    "    lats = list(track_df['geometry'].apply(lambda coord: coord.y))\n",
    "\n",
    "    centroid_lng = sum(lngs)/len(lngs)\n",
    "    centroid_lat = sum(lats)/len(lats)\n",
    "\n",
    "    centroid = (centroid_lat, centroid_lng)\n",
    "\n",
    "    print(\"Track centroid is located at {}\".format(centroid))\n",
    "\n",
    "    # Calculate interval times\n",
    "    dt = np.zeros(len(track_df['time']))\n",
    "\n",
    "    for j in range(1, len(track_df['time'])):\n",
    "        dt[j] = get_interval_time(track_df['time'].iloc[j], track_df['time'].iloc[j-1])\n",
    "    \n",
    "    speed = np.array(track_df['GPS Speed.value'])\n",
    "\n",
    "    distance_total = np.sum(speed / 3.6 * dt) / 1000\n",
    "\n",
    "    dist = int(distance_total / 2 * 1000)\n",
    "\n",
    "    print(\"Graph from point distance is {}\".format(dist))\n",
    "\n",
    "    graph = ox.graph_from_point(centroid, dist=dist, network_type='drive')\n",
    "\n",
    "    # ox.plot_graph(graph)\n",
    "\n",
    "    # OSM graph transformation for compatibility with LMM\n",
    "    # Leuven Map Matching is using a different internal graph structure for the street data. \n",
    "    # Therefore, the OSMnx graph needs to be transformed to the InMemMap\n",
    "    streetmap = InMemMap(\"enviroCar\", use_latlon=True, use_rtree=True, index_edges=True)\n",
    "\n",
    "    # add nodes\n",
    "    nodes = list(graph.nodes)\n",
    "    for node in nodes:\n",
    "        lng = graph.nodes[node]['x']\n",
    "        lat = graph.nodes[node]['y']\n",
    "        streetmap.add_node(node, (lat, lng))\n",
    "\n",
    "    # add edges\n",
    "    edges = list(graph.edges)\n",
    "    for edge in edges:\n",
    "        node_a, node_b = edge[0], edge[1]\n",
    "        streetmap.add_edge(node_a, node_b)\n",
    "        \n",
    "        # exclude bi-directional edges when street is oneway\n",
    "        if not graph.edges[edge]['oneway']:\n",
    "            streetmap.add_edge(node_b, node_a)\n",
    "        \n",
    "    streetmap.purge()\n",
    "\n",
    "    # Map matching\n",
    "    track_coords = [c for c in zip(lats, lngs)]\n",
    "\n",
    "    # TODO Calculate programmatically\n",
    "    max_dist = 300\n",
    "\n",
    "    # Configure the mapmatcher. For increasing the performance it is important \n",
    "    # that max_dist (in meters) is not set too high\n",
    "    matcher = DistanceMatcher(streetmap,\n",
    "                            max_dist=max_dist, \n",
    "                            max_dist_init=50,\n",
    "                            min_prob_norm=0.001,\n",
    "                            non_emitting_length_factor=0.75,\n",
    "                            obs_noise=50,\n",
    "                            obs_noise_ne=75,\n",
    "                            dist_noise=50,\n",
    "                            non_emitting_edgeid=False)\n",
    "\n",
    "    # Perform the mapmatching \n",
    "    try:\n",
    "        edge_ids, last_idx = matcher.match(track_coords)\n",
    "    except Exception:\n",
    "        print(\"Map matching cannot be performed for this track\\n\")\n",
    "        continue\n",
    "    if not matcher.lattice_best:\n",
    "        print(\"No matching track has been found\\n\")\n",
    "        continue\n",
    "\n",
    "    # get the coordinates of the \"best\" mapmatched route\n",
    "    coords = [m.edge_m.pi[:] for m in matcher.lattice_best]\n",
    "\n",
    "    map_matched_track_coords_dict[track_ids[i]] = coords\n",
    "\n",
    "    # Visualize matched map\n",
    "    # plot both raw and mapmatched track\n",
    "    # m = folium.Map(location=[lat, lng], zoom_start=13)\n",
    "    # folium.PolyLine(coords, color='blue').add_to(m)\n",
    "    # folium.PolyLine(track_coords, color='red').add_to(m)\n",
    "    # m\n",
    "\n",
    "    print()"
   ]
  },
  {
   "source": [
    "## Tracks similiarity search"
   ],
   "cell_type": "markdown",
   "metadata": {}
  },
  {
   "cell_type": "code",
   "execution_count": null,
   "metadata": {},
   "outputs": [],
   "source": [
    "print(\"There are {} tracks suitable for similarity search\".format(len(map_matched_track_coords_dict)))\n",
    "\n",
    "# for track_id in map_matched_track_coords_dict:\n",
    "#     map_matched_track_coords = map_matched_track_coords_dict[track_id]\n",
    "\n",
    "# print(map_matched_track_coords_dict['5fc3d8e605fa792e88632925'])\n",
    "# print(map_matched_track_coords_dict['5fc3d8e605fa792e886329e7'])\n",
    "\n",
    "# for coord in map_matched_track_coords_dict['5fc3d8e605fa792e88632925']:\n",
    "\n",
    "\n"
   ]
  },
  {
   "cell_type": "code",
   "execution_count": null,
   "metadata": {},
   "outputs": [],
   "source": []
  }
 ],
 "metadata": {
  "kernelspec": {
   "name": "python3",
   "display_name": "Python 3.8.5 64-bit ('anaconda3': virtualenv)",
   "metadata": {
    "interpreter": {
     "hash": "4e4b1c0eba25b43fb0828087952fe1bfe39b80460d2a5f528a72e68cadaca174"
    }
   }
  },
  "language_info": {
   "codemirror_mode": {
    "name": "ipython",
    "version": 3
   },
   "file_extension": ".py",
   "mimetype": "text/x-python",
   "name": "python",
   "nbconvert_exporter": "python",
   "pygments_lexer": "ipython3",
   "version": "3.8.5-final"
  }
 },
 "nbformat": 4,
 "nbformat_minor": 4
}