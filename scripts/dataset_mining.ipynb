{
 "metadata": {
  "language_info": {
   "codemirror_mode": {
    "name": "ipython",
    "version": 3
   },
   "file_extension": ".py",
   "mimetype": "text/x-python",
   "name": "python",
   "nbconvert_exporter": "python",
   "pygments_lexer": "ipython3",
   "version": "3.8.5-final"
  },
  "orig_nbformat": 2,
  "kernelspec": {
   "name": "python385jvsc74a57bd04e4b1c0eba25b43fb0828087952fe1bfe39b80460d2a5f528a72e68cadaca174",
   "display_name": "Python 3.8.5 64-bit ('base': conda)"
  }
 },
 "nbformat": 4,
 "nbformat_minor": 2,
 "cells": [
  {
   "source": [
    "# Dataset Mining\n",
    "### Get CSV file"
   ],
   "cell_type": "markdown",
   "metadata": {}
  },
  {
   "cell_type": "code",
   "execution_count": 59,
   "metadata": {},
   "outputs": [],
   "source": [
    "import pandas as pd\n",
    "import os\n",
    "\n",
    "DIR = './data/anonymized/'\n",
    "FILENAME = 'tracks.csv'\n",
    "\n",
    "RELATIVE_PATH = DIR + FILENAME\n",
    "ABSOLUTE_PATH = os.path.abspath(RELATIVE_PATH)\n",
    "\n",
    "csv_data = pd.read_csv(ABSOLUTE_PATH)\n",
    "df = pd.DataFrame(csv_data)"
   ]
  },
  {
   "source": [
    "### Set default strategy"
   ],
   "cell_type": "markdown",
   "metadata": {}
  },
  {
   "cell_type": "code",
   "execution_count": 60,
   "metadata": {},
   "outputs": [],
   "source": [
    "df.strategy = df.strategy.fillna(\"undefined\")"
   ]
  },
  {
   "source": [
    "### Remove irrelevant participants"
   ],
   "cell_type": "markdown",
   "metadata": {}
  },
  {
   "cell_type": "code",
   "execution_count": 61,
   "metadata": {},
   "outputs": [
    {
     "output_type": "stream",
     "name": "stdout",
     "text": [
      "Number of total removed records: 9\n"
     ]
    }
   ],
   "source": [
    "irrelevants = ['participant_7']\n",
    "removed_records = 0\n",
    "\n",
    "for irrelevant in irrelevants:\n",
    "    rows_before = df.shape[0]\n",
    "    df = df.drop(df[df.user == irrelevant].index)\n",
    "    rows_after = df.shape[0]\n",
    "    removed_records = removed_records + rows_before - rows_after\n",
    "\n",
    "print(\"Number of total removed records: \" + str(removed_records))\n"
   ]
  },
  {
   "source": [
    "### See number of participants"
   ],
   "cell_type": "markdown",
   "metadata": {}
  },
  {
   "cell_type": "code",
   "execution_count": 62,
   "metadata": {},
   "outputs": [
    {
     "output_type": "stream",
     "name": "stdout",
     "text": [
      "Number of participants: 10\n"
     ]
    }
   ],
   "source": [
    "participants = df.user.unique()\n",
    "print(\"Number of participants: \" + str(participants.size))"
   ]
  },
  {
   "source": [
    "### See CSV file contents"
   ],
   "cell_type": "markdown",
   "metadata": {}
  },
  {
   "cell_type": "code",
   "execution_count": 63,
   "metadata": {},
   "outputs": [
    {
     "output_type": "stream",
     "name": "stdout",
     "text": [
      "       name                 time                 begin  \\\n0    tracks  1612114489000000000  2021-01-31T16:23:21Z   \n1    tracks  1612114508000000000  2021-01-31T13:12:37Z   \n2    tracks  1612128040000000000  2021-01-31T20:52:19Z   \n3    tracks  1612128046000000000  2021-01-31T20:32:48Z   \n4    tracks  1612179103000000000  2021-02-01T08:14:11Z   \n..      ...                  ...                   ...   \n388  tracks  1615574690000000000  2021-03-12T18:30:18Z   \n389  tracks  1615577750000000000  2021-03-12T08:09:06Z   \n390  tracks  1615590448000000000  2021-03-12T22:55:39Z   \n391  tracks  1615670043000000000  2021-03-13T00:46:36Z   \n392  tracks  1615674209000000000  2021-03-12T13:57:00Z   \n\n                        car  carEngineDisplacement  consumption  duration  \\\n0    Wolkswagen Sharan 2005                   1900         5.07      2140   \n1    Wolkswagen Sharan 2005                   1900         4.38      2321   \n2         Nissan Micra 2018                    898         7.39       958   \n3         Nissan Micra 2018                    898         7.04      1060   \n4         Nissan Micra 2018                    898         8.41      1097   \n..                      ...                    ...          ...       ...   \n388       toyota yaris 2017                   1496         7.13       461   \n389         Seat Arona 2018                    999         5.26      1405   \n390       toyota yaris 2017                   1496         5.50       405   \n391       Nissan Micra 2018                    898         8.08      1553   \n392      Skoda Octavia 2014                   1600         6.97      1045   \n\n                      end  fuelConsumed                        id     length  \\\n0    2021-01-31T16:59:01Z          1.73  6016ea39886b71633cedac4d  34.103833   \n1    2021-01-31T13:51:18Z          1.48  6016ea4c886b71633cedb4a1  33.807366   \n2    2021-01-31T21:08:17Z          1.01  60171f28886b71633cee1c0f  13.643601   \n3    2021-01-31T20:50:28Z          0.94  60171f2e886b71633cee1fcc  13.351848   \n4    2021-02-01T08:32:28Z          1.17  6017e69f886b71633cf039b0  13.884895   \n..                    ...           ...                       ...        ...   \n388  2021-03-12T18:37:59Z          0.50  604bb6a2886b71633c13ff49   7.023027   \n389  2021-03-12T08:32:31Z          1.09  604bc296886b71633c14082f  20.713294   \n390  2021-03-12T23:02:24Z          0.38  604bf430886b71633c1437d2   6.919242   \n391  2021-03-13T01:12:29Z          1.75  604d2b1b886b71633c172743  21.628706   \n392  2021-03-12T14:14:25Z          0.36  604d3b61886b71633c17394a   5.118524   \n\n     phase  score  speed      strategy           user  \n0        1      0  57.31     undefined  participant_1  \n1        1      0  52.53     undefined  participant_1  \n2        1      0  51.22     undefined  participant_2  \n3        1      0  45.18     undefined  participant_2  \n4        1      0  45.40     undefined  participant_2  \n..     ...    ...    ...           ...            ...  \n388      3     15  54.15  gamification  participant_9  \n389      3     49  51.62       rewards  participant_4  \n390      3     41  61.21  gamification  participant_9  \n391      3     11  49.99  gamification  participant_2  \n392      3      0  17.81       rewards  participant_8  \n\n[393 rows x 16 columns]\n"
     ]
    }
   ],
   "source": [
    "print(csv_data)"
   ]
  },
  {
   "source": [
    "## Visualizations\n",
    "### Length per phase"
   ],
   "cell_type": "markdown",
   "metadata": {}
  },
  {
   "cell_type": "code",
   "execution_count": 64,
   "metadata": {},
   "outputs": [
    {
     "output_type": "stream",
     "name": "stdout",
     "text": [
      "       name                 time                 begin  \\\n0    tracks  1612114489000000000  2021-01-31T16:23:21Z   \n1    tracks  1612114508000000000  2021-01-31T13:12:37Z   \n2    tracks  1612128040000000000  2021-01-31T20:52:19Z   \n3    tracks  1612128046000000000  2021-01-31T20:32:48Z   \n4    tracks  1612179103000000000  2021-02-01T08:14:11Z   \n..      ...                  ...                   ...   \n388  tracks  1615574690000000000  2021-03-12T18:30:18Z   \n389  tracks  1615577750000000000  2021-03-12T08:09:06Z   \n390  tracks  1615590448000000000  2021-03-12T22:55:39Z   \n391  tracks  1615670043000000000  2021-03-13T00:46:36Z   \n392  tracks  1615674209000000000  2021-03-12T13:57:00Z   \n\n                        car  carEngineDisplacement  consumption  duration  \\\n0    Wolkswagen Sharan 2005                   1900         5.07      2140   \n1    Wolkswagen Sharan 2005                   1900         4.38      2321   \n2         Nissan Micra 2018                    898         7.39       958   \n3         Nissan Micra 2018                    898         7.04      1060   \n4         Nissan Micra 2018                    898         8.41      1097   \n..                      ...                    ...          ...       ...   \n388       toyota yaris 2017                   1496         7.13       461   \n389         Seat Arona 2018                    999         5.26      1405   \n390       toyota yaris 2017                   1496         5.50       405   \n391       Nissan Micra 2018                    898         8.08      1553   \n392      Skoda Octavia 2014                   1600         6.97      1045   \n\n                      end  fuelConsumed                        id     length  \\\n0    2021-01-31T16:59:01Z          1.73  6016ea39886b71633cedac4d  34.103833   \n1    2021-01-31T13:51:18Z          1.48  6016ea4c886b71633cedb4a1  33.807366   \n2    2021-01-31T21:08:17Z          1.01  60171f28886b71633cee1c0f  13.643601   \n3    2021-01-31T20:50:28Z          0.94  60171f2e886b71633cee1fcc  13.351848   \n4    2021-02-01T08:32:28Z          1.17  6017e69f886b71633cf039b0  13.884895   \n..                    ...           ...                       ...        ...   \n388  2021-03-12T18:37:59Z          0.50  604bb6a2886b71633c13ff49   7.023027   \n389  2021-03-12T08:32:31Z          1.09  604bc296886b71633c14082f  20.713294   \n390  2021-03-12T23:02:24Z          0.38  604bf430886b71633c1437d2   6.919242   \n391  2021-03-13T01:12:29Z          1.75  604d2b1b886b71633c172743  21.628706   \n392  2021-03-12T14:14:25Z          0.36  604d3b61886b71633c17394a   5.118524   \n\n     phase  score  speed      strategy           user  \n0        1      0  57.31     undefined  participant_1  \n1        1      0  52.53     undefined  participant_1  \n2        1      0  51.22     undefined  participant_2  \n3        1      0  45.18     undefined  participant_2  \n4        1      0  45.40     undefined  participant_2  \n..     ...    ...    ...           ...            ...  \n388      3     15  54.15  gamification  participant_9  \n389      3     49  51.62       rewards  participant_4  \n390      3     41  61.21  gamification  participant_9  \n391      3     11  49.99  gamification  participant_2  \n392      3      0  17.81       rewards  participant_8  \n\n[384 rows x 16 columns]\n"
     ]
    }
   ],
   "source": [
    "import matplotlib\n",
    "import matplotlib.pyplot as plt\n",
    "\n",
    "grouped_df = df.groupby(['user', 'phase']).apply(lambda x: x)\n",
    "\n",
    "print(grouped_df)\n",
    "\n",
    "\n",
    "\n",
    "# fig, ax = plt.subplots()\n",
    "# ax.plot(, df.phase)\n",
    "\n",
    "# ax.set(xlabel='time (s)', ylabel='voltage (mV)',\n",
    "#        title='About as simple as it gets, folks')\n",
    "# ax.grid()\n",
    "\n",
    "# fig.savefig(\"test.png\")\n",
    "# plt.show()"
   ]
  },
  {
   "cell_type": "code",
   "execution_count": null,
   "metadata": {},
   "outputs": [],
   "source": []
  }
 ]
}